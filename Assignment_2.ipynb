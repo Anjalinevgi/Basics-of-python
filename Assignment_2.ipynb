{
  "nbformat": 4,
  "nbformat_minor": 0,
  "metadata": {
    "colab": {
      "name": "Assignment 2",
      "provenance": [],
      "collapsed_sections": []
    },
    "kernelspec": {
      "name": "python3",
      "display_name": "Python 3"
    },
    "language_info": {
      "name": "python"
    }
  },
  "cells": [
    {
      "cell_type": "markdown",
      "source": [
        "Q1.Write a Python User Define Function to reverse a string\n"
      ],
      "metadata": {
        "id": "HvQcJ98F2VXk"
      }
    },
    {
      "cell_type": "code",
      "source": [
        "#Solution 1\n",
        "\n",
        "def rev(s):\n",
        "  string=''\n",
        "  for i in s:\n",
        "    string=i+string\n",
        "  return string\n",
        "\n",
        "print(rev('apple'))"
      ],
      "metadata": {
        "colab": {
          "base_uri": "https://localhost:8080/"
        },
        "id": "1RTzNvUv2YCA",
        "outputId": "4108f6de-164f-40a7-f4f0-cf0119223dbb"
      },
      "execution_count": null,
      "outputs": [
        {
          "output_type": "stream",
          "name": "stdout",
          "text": [
            "elppa\n"
          ]
        }
      ]
    },
    {
      "cell_type": "markdown",
      "source": [
        "Q2. Write a Python min_max function which will return Min, Max of 4 inputs from the user."
      ],
      "metadata": {
        "id": "pbQc_gEh2mjZ"
      }
    },
    {
      "cell_type": "code",
      "source": [
        "#Solution 2:\n",
        "\n",
        "def min_max(n): #Number of inputs\n",
        "  \n",
        "  l=[]\n",
        "  for i in range(0,n):\n",
        "    num=int(input())\n",
        "    l.append(num)\n",
        "\n",
        "  maxi=max(l)\n",
        "  mini=min(l)\n",
        "\n",
        "  return(mini,maxi) #returns the smallest and highest element of the input\n",
        "\n",
        "print(min_max(4))\n",
        "  \n",
        "  \n",
        "\n",
        "\n",
        "  "
      ],
      "metadata": {
        "colab": {
          "base_uri": "https://localhost:8080/"
        },
        "id": "l27MftIc2pDp",
        "outputId": "efb256ba-1fad-4f47-82c2-7943817357fa"
      },
      "execution_count": null,
      "outputs": [
        {
          "output_type": "stream",
          "name": "stdout",
          "text": [
            "1\n",
            "2\n",
            "3\n",
            "4\n",
            "(1, 4)\n"
          ]
        }
      ]
    },
    {
      "cell_type": "markdown",
      "source": [
        "Q3. Write a Python function to sum 4 inputs from the user"
      ],
      "metadata": {
        "id": "Bzn1m3pt5Rqr"
      }
    },
    {
      "cell_type": "code",
      "source": [
        "#Solution 3\n",
        "\n",
        "def sum(n):\n",
        "  l=[]\n",
        "  for i in range(0,n):\n",
        "    ele=int(input())\n",
        "    l.append(ele)\n",
        "  sum=0\n",
        "  for i in l:\n",
        "    sum=sum+i\n",
        "\n",
        "  return(sum)\n",
        "print(sum(4))    \n"
      ],
      "metadata": {
        "colab": {
          "base_uri": "https://localhost:8080/"
        },
        "id": "SxZsqfmG5VuR",
        "outputId": "559fd777-86fc-40ec-8413-279a54ec4660"
      },
      "execution_count": null,
      "outputs": [
        {
          "output_type": "stream",
          "name": "stdout",
          "text": [
            "10\n",
            "20\n",
            "30\n",
            "40\n",
            "100\n"
          ]
        }
      ]
    },
    {
      "cell_type": "markdown",
      "source": [
        "Q4. Find out the Command which will return you number of local variables from the user define function."
      ],
      "metadata": {
        "id": "2iZSrAni68Ah"
      }
    },
    {
      "cell_type": "code",
      "source": [
        "#Solution 4\n",
        "\n",
        "#The command co_nlocals() can be used to find the number of local variables from an user defined function\n",
        "\n",
        "co_nlocals(sum) "
      ],
      "metadata": {
        "colab": {
          "base_uri": "https://localhost:8080/",
          "height": 200
        },
        "id": "IhUxp5Bs6-ha",
        "outputId": "9eab2b4f-dbe7-4db3-fcf2-49d27a22aa4f"
      },
      "execution_count": null,
      "outputs": [
        {
          "output_type": "error",
          "ename": "NameError",
          "evalue": "ignored",
          "traceback": [
            "\u001b[0;31m---------------------------------------------------------------------------\u001b[0m",
            "\u001b[0;31mNameError\u001b[0m                                 Traceback (most recent call last)",
            "\u001b[0;32m<ipython-input-8-c4d61fbed8e9>\u001b[0m in \u001b[0;36m<module>\u001b[0;34m()\u001b[0m\n\u001b[1;32m      3\u001b[0m \u001b[0;31m#The command co_nlocals() can be used to find the number of local variables from an user defined function\u001b[0m\u001b[0;34m\u001b[0m\u001b[0;34m\u001b[0m\u001b[0;34m\u001b[0m\u001b[0m\n\u001b[1;32m      4\u001b[0m \u001b[0;34m\u001b[0m\u001b[0m\n\u001b[0;32m----> 5\u001b[0;31m \u001b[0mco_nlocals\u001b[0m\u001b[0;34m(\u001b[0m\u001b[0msum\u001b[0m\u001b[0;34m)\u001b[0m\u001b[0;34m\u001b[0m\u001b[0;34m\u001b[0m\u001b[0m\n\u001b[0m",
            "\u001b[0;31mNameError\u001b[0m: name 'co_nlocals' is not defined"
          ]
        }
      ]
    },
    {
      "cell_type": "markdown",
      "source": [
        "Q5.Write Python Function to get even number from the list. List len must be equal to 8."
      ],
      "metadata": {
        "id": "8KZvhWuA77D0"
      }
    },
    {
      "cell_type": "code",
      "source": [
        "#Solution 5:\n",
        "\n",
        "l=[1,2,3,4,5,6,7,8]\n",
        "l1=[]\n",
        "\n",
        "for i in l:\n",
        "  if(i%2==0):\n",
        "    l1.append(i)\n",
        "\n",
        "print(l1)\n",
        "\n",
        "  \n",
        "\n"
      ],
      "metadata": {
        "id": "599Q-odJ77sz",
        "colab": {
          "base_uri": "https://localhost:8080/"
        },
        "outputId": "5ca12c08-c9c9-4d93-dd51-3bbfa50e9cbc"
      },
      "execution_count": 1,
      "outputs": [
        {
          "output_type": "stream",
          "name": "stdout",
          "text": [
            "[2, 4, 6, 8]\n"
          ]
        }
      ]
    }
  ]
}