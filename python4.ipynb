{
  "nbformat": 4,
  "nbformat_minor": 0,
  "metadata": {
    "colab": {
      "name": "python4.ipynb",
      "provenance": []
    },
    "kernelspec": {
      "name": "python3",
      "display_name": "Python 3"
    },
    "language_info": {
      "name": "python"
    }
  },
  "cells": [
    {
      "cell_type": "markdown",
      "source": [
        "Data Structures\n",
        "There are four collection data types in the Python programming language\n",
        "\n",
        "Lists\n",
        "Tuples\n",
        "Sets\n",
        "Dictionaries\n",
        "Python Lists\n",
        "A list is a collection which is ordered and changeable. In Python lists are written with square brackets."
      ],
      "metadata": {
        "id": "TGKXPlrRIeWY"
      }
    },
    {
      "cell_type": "code",
      "source": [
        "b = 'ganesh'\n",
        "c = 200\n",
        "a = [\"sanket\",'kiran']\n",
        "print(type(a))\n",
        "print(a)\n",
        "print(type(b))\n",
        "print(b)\n",
        "print(type(c))\n",
        "print(c)"
      ],
      "metadata": {
        "colab": {
          "base_uri": "https://localhost:8080/"
        },
        "id": "gCYGlN4yIflP",
        "outputId": "83884010-a6ce-4c0c-a625-aeda310dd0c1"
      },
      "execution_count": null,
      "outputs": [
        {
          "output_type": "stream",
          "name": "stdout",
          "text": [
            "<class 'list'>\n",
            "['sanket', 'kiran']\n",
            "<class 'str'>\n",
            "ganesh\n",
            "<class 'int'>\n",
            "200\n"
          ]
        }
      ]
    },
    {
      "cell_type": "code",
      "source": [
        "names = ['Raj', 'Arjun', 'Priya','Kishor','Anu']\n",
        "print(names)\n",
        "print(type(names))"
      ],
      "metadata": {
        "colab": {
          "base_uri": "https://localhost:8080/"
        },
        "id": "UW6w-yO5IwD4",
        "outputId": "573bfaea-9b73-4573-9727-5bd8eaa267a9"
      },
      "execution_count": 3,
      "outputs": [
        {
          "output_type": "stream",
          "name": "stdout",
          "text": [
            "['Raj', 'Arjun', 'Priya', 'Kishor', 'Anu']\n",
            "<class 'list'>\n"
          ]
        }
      ]
    },
    {
      "cell_type": "code",
      "source": [
        "names\n",
        "print(names[:3] )# for first 3 index values\n",
        "print(names[2:]) # for from second index values onward"
      ],
      "metadata": {
        "colab": {
          "base_uri": "https://localhost:8080/"
        },
        "id": "xkyyvjrzI-v4",
        "outputId": "55beb817-8abd-4d8f-f612-c9229caa17da"
      },
      "execution_count": null,
      "outputs": [
        {
          "output_type": "stream",
          "name": "stdout",
          "text": [
            "['Raj', 'Arjun', 'Priya']\n",
            "['Priya', 'Kishor', 'Anu']\n"
          ]
        }
      ]
    },
    {
      "cell_type": "code",
      "source": [
        "# Access items\n",
        "print(names[3])\n",
        "print(names[2:])\n",
        "print(names[:2])\n",
        "print(names[1:3])"
      ],
      "metadata": {
        "colab": {
          "base_uri": "https://localhost:8080/"
        },
        "id": "-HO97L5aJIWH",
        "outputId": "d440ffb4-8136-4a7e-b5f8-11d77e53e4aa"
      },
      "execution_count": null,
      "outputs": [
        {
          "output_type": "stream",
          "name": "stdout",
          "text": [
            "Kishor\n",
            "['Priya', 'Kishor', 'Anu']\n",
            "['Raj', 'Arjun']\n",
            "['Arjun', 'Priya']\n"
          ]
        }
      ]
    },
    {
      "cell_type": "code",
      "source": [
        "names"
      ],
      "metadata": {
        "colab": {
          "base_uri": "https://localhost:8080/"
        },
        "id": "6noKlzt6Jglb",
        "outputId": "0c014827-8700-44ca-b483-bc6f8dde2907"
      },
      "execution_count": 4,
      "outputs": [
        {
          "output_type": "execute_result",
          "data": {
            "text/plain": [
              "['Raj', 'Arjun', 'Priya', 'Kishor', 'Anu']"
            ]
          },
          "metadata": {},
          "execution_count": 4
        }
      ]
    },
    {
      "cell_type": "code",
      "source": [
        "# Negative index\n",
        "print(names[-1])\n",
        "print(names[-2:])\n",
        "print(names[:-2])\n",
        "print(names[-3:-1])"
      ],
      "metadata": {
        "colab": {
          "base_uri": "https://localhost:8080/"
        },
        "id": "1c5O8TCtJkB6",
        "outputId": "b6364a78-8c72-4aa0-8753-69cf76976c68"
      },
      "execution_count": null,
      "outputs": [
        {
          "output_type": "stream",
          "name": "stdout",
          "text": [
            "Anu\n",
            "['Kishor', 'Anu']\n",
            "['Raj', 'Arjun', 'Priya']\n",
            "['Priya', 'Kishor']\n"
          ]
        }
      ]
    },
    {
      "cell_type": "code",
      "source": [
        "# Change item in list\n",
        "print(names)\n",
        "names[3]=\"joy\"\n",
        "print(names)"
      ],
      "metadata": {
        "colab": {
          "base_uri": "https://localhost:8080/"
        },
        "id": "WnQ2PdyQJnA4",
        "outputId": "02bd2e1a-c39c-46a0-e271-83234a39ef69"
      },
      "execution_count": null,
      "outputs": [
        {
          "output_type": "stream",
          "name": "stdout",
          "text": [
            "['Raj', 'Arjun', 'Priya', 'Kishor', 'Anu']\n",
            "['Raj', 'Arjun', 'Priya', 'joy', 'Anu']\n"
          ]
        }
      ]
    },
    {
      "cell_type": "code",
      "source": [
        "# Looping through lists\n",
        "for j in names:\n",
        "    print(j)#+'5'+j)"
      ],
      "metadata": {
        "colab": {
          "base_uri": "https://localhost:8080/"
        },
        "id": "MH5PatcRJrOw",
        "outputId": "34c16039-c948-4d53-a09c-c029aec8df33"
      },
      "execution_count": null,
      "outputs": [
        {
          "output_type": "stream",
          "name": "stdout",
          "text": [
            "Raj\n",
            "Arjun\n",
            "Priya\n",
            "joy\n",
            "Anu\n"
          ]
        }
      ]
    },
    {
      "cell_type": "code",
      "source": [
        "# Nested list\n",
        "mylist=[1,2,3,['a','b',[5,6]]]\n",
        "print(mylist)"
      ],
      "metadata": {
        "colab": {
          "base_uri": "https://localhost:8080/"
        },
        "id": "Q2S3zHRHJvoX",
        "outputId": "429389de-3818-4817-9a5b-f9c273881142"
      },
      "execution_count": null,
      "outputs": [
        {
          "output_type": "stream",
          "name": "stdout",
          "text": [
            "[1, 2, 3, ['a', 'b', [5, 6]]]\n"
          ]
        }
      ]
    },
    {
      "cell_type": "code",
      "source": [
        "sp =[[\"Science\"],[\"Commerce\"],[\"Arts\"]]\n",
        "sp"
      ],
      "metadata": {
        "colab": {
          "base_uri": "https://localhost:8080/"
        },
        "id": "v2TPtEYaKPQw",
        "outputId": "10741ba0-8917-4bf4-bf96-7997b70734bc"
      },
      "execution_count": null,
      "outputs": [
        {
          "output_type": "execute_result",
          "data": {
            "text/plain": [
              "[['Science'], ['Commerce'], ['Arts']]"
            ]
          },
          "metadata": {},
          "execution_count": 10
        }
      ]
    },
    {
      "cell_type": "markdown",
      "source": [
        "Methods\n",
        "\n",
        "\n",
        "append(): Adds an element at the end of the list\n",
        "clear(): Removes all the elements from the list\n",
        "copy(): Returns a copy of the list\n",
        "count(): Returns the number of elements with the specified value\n",
        "del : Delete list\n",
        "extend(): Add the elements of a list (or any iterable), to the end of the current list\n",
        "index(): Returns the index of the first element with the specified value\n",
        "insert(): Adds an element at the specified position\n",
        "len(): Length of list\n",
        "list(): Copies list from given list\n",
        "pop(): Removes the element at the specified position\n",
        "remove(): Removes the item with the specified value\n",
        "reverse(): Reverses the order of the list\n",
        "sort(): Sorts the list"
      ],
      "metadata": {
        "id": "6vklyy05KXBm"
      }
    },
    {
      "cell_type": "code",
      "source": [
        "# append(): Adds an element at the end of the list\n",
        "print(names)\n",
        "names.append(\"Kumar\")\n",
        "print(names)"
      ],
      "metadata": {
        "id": "fy9JWWrQKX-X",
        "colab": {
          "base_uri": "https://localhost:8080/"
        },
        "outputId": "ac9b97bb-89f0-4339-f8f3-093f9fffb285"
      },
      "execution_count": 5,
      "outputs": [
        {
          "output_type": "stream",
          "name": "stdout",
          "text": [
            "['Raj', 'Arjun', 'Priya', 'Kishor', 'Anu']\n",
            "['Raj', 'Arjun', 'Priya', 'Kishor', 'Anu', 'Kumar']\n"
          ]
        }
      ]
    },
    {
      "cell_type": "code",
      "source": [
        "# clear(): Removes all the elements from the list\n",
        "print(names)\n",
        "names.clear()\n",
        "print(names)"
      ],
      "metadata": {
        "colab": {
          "base_uri": "https://localhost:8080/"
        },
        "id": "C1Q4KIlmZjVq",
        "outputId": "818645f9-7680-422e-f22f-31d603cc4858"
      },
      "execution_count": 6,
      "outputs": [
        {
          "output_type": "stream",
          "name": "stdout",
          "text": [
            "['Raj', 'Arjun', 'Priya', 'Kishor', 'Anu', 'Kumar']\n",
            "[]\n"
          ]
        }
      ]
    },
    {
      "cell_type": "code",
      "source": [
        "# copy(): Returns a copy of the list\n",
        "names = ['Raj', 'Arjun', 'Priya','Kishor','Anu']\n",
        "Names1=names.copy()\n",
        "print(Names1)"
      ],
      "metadata": {
        "colab": {
          "base_uri": "https://localhost:8080/"
        },
        "id": "dxfWJSN9aGtO",
        "outputId": "7aeb5ab3-daa4-4a0f-bc0d-cc5e1896f142"
      },
      "execution_count": 7,
      "outputs": [
        {
          "output_type": "stream",
          "name": "stdout",
          "text": [
            "['Raj', 'Arjun', 'Priya', 'Kishor', 'Anu']\n"
          ]
        }
      ]
    },
    {
      "cell_type": "code",
      "source": [
        "names"
      ],
      "metadata": {
        "colab": {
          "base_uri": "https://localhost:8080/"
        },
        "id": "eqh1v2_0aJS3",
        "outputId": "0824c5b4-7ecc-4e7a-a9ad-5349c975481a"
      },
      "execution_count": 8,
      "outputs": [
        {
          "output_type": "execute_result",
          "data": {
            "text/plain": [
              "['Raj', 'Arjun', 'Priya', 'Kishor', 'Anu']"
            ]
          },
          "metadata": {},
          "execution_count": 8
        }
      ]
    },
    {
      "cell_type": "code",
      "source": [
        "# count(): Returns the number of elements with the specified value\n",
        "names.append(\"Raj\")\n",
        "x=names.count('Raj')\n",
        "print(x)"
      ],
      "metadata": {
        "colab": {
          "base_uri": "https://localhost:8080/"
        },
        "id": "K47ivrw9aLn_",
        "outputId": "4f758a99-fd03-4acb-b871-d4bad14e72f0"
      },
      "execution_count": 9,
      "outputs": [
        {
          "output_type": "stream",
          "name": "stdout",
          "text": [
            "2\n"
          ]
        }
      ]
    },
    {
      "cell_type": "code",
      "source": [
        "# del : Delete list\n",
        "Names1=['Raj','Priya']\n",
        "print(Names1)\n",
        "del Names1\n"
      ],
      "metadata": {
        "colab": {
          "base_uri": "https://localhost:8080/"
        },
        "id": "nedvVWrkaQcu",
        "outputId": "7a6669ff-9dda-4674-d8f1-909a1fb3aefd"
      },
      "execution_count": 11,
      "outputs": [
        {
          "output_type": "stream",
          "name": "stdout",
          "text": [
            "['Raj', 'Priya']\n"
          ]
        }
      ]
    },
    {
      "cell_type": "code",
      "source": [
        "# extend(): Add the elements of a list (or any iterable), \n",
        "# to the end of the current list\n",
        "cars = ['Ford', 'BMW', 'Volvo']\n",
        "names.extend(cars)\n",
        "print(names)"
      ],
      "metadata": {
        "colab": {
          "base_uri": "https://localhost:8080/"
        },
        "id": "cXWbF682afeV",
        "outputId": "1c3322fc-41a7-415d-8d57-e5797065d19d"
      },
      "execution_count": 12,
      "outputs": [
        {
          "output_type": "stream",
          "name": "stdout",
          "text": [
            "['Raj', 'Arjun', 'Priya', 'Kishor', 'Anu', 'Raj', 'Ford', 'BMW', 'Volvo']\n"
          ]
        }
      ]
    },
    {
      "cell_type": "code",
      "source": [
        "# index(): Returns the index of the first element with the specified value\n",
        "x=names.index('Anu')\n",
        "x"
      ],
      "metadata": {
        "colab": {
          "base_uri": "https://localhost:8080/"
        },
        "id": "rpdLnlgvalKM",
        "outputId": "b43d5853-8ff1-4544-9d23-9c4bd14e0d98"
      },
      "execution_count": 13,
      "outputs": [
        {
          "output_type": "execute_result",
          "data": {
            "text/plain": [
              "4"
            ]
          },
          "metadata": {},
          "execution_count": 13
        }
      ]
    },
    {
      "cell_type": "code",
      "source": [
        "# insert():\tAdds an element at the specified position\n",
        "names.insert(2,'Audi')\n",
        "print(names)"
      ],
      "metadata": {
        "colab": {
          "base_uri": "https://localhost:8080/"
        },
        "id": "yYUibfFBaoJQ",
        "outputId": "e89fdb36-88ad-4225-d245-a969f628f2dc"
      },
      "execution_count": 15,
      "outputs": [
        {
          "output_type": "stream",
          "name": "stdout",
          "text": [
            "['Raj', 'Arjun', 'Audi', 'Priya', 'Kishor', 'Anu', 'Raj', 'Ford', 'BMW', 'Volvo']\n"
          ]
        }
      ]
    },
    {
      "cell_type": "code",
      "source": [
        "# len(): Length of list\n",
        "print(len(names))"
      ],
      "metadata": {
        "colab": {
          "base_uri": "https://localhost:8080/"
        },
        "id": "fXfbfCkiauOg",
        "outputId": "bdeb9315-1ffc-4f48-aa55-819a7dad8042"
      },
      "execution_count": 16,
      "outputs": [
        {
          "output_type": "stream",
          "name": "stdout",
          "text": [
            "10\n"
          ]
        }
      ]
    },
    {
      "cell_type": "code",
      "source": [
        "# list(): Creats list from given inputs\n",
        "new_list=list(('Audi',\"BMW\",'Ford'))\n",
        "print(new_list)"
      ],
      "metadata": {
        "colab": {
          "base_uri": "https://localhost:8080/"
        },
        "id": "SYKfIor6awe4",
        "outputId": "fdcc1fd1-c068-4d69-b098-18550065c4fd"
      },
      "execution_count": 17,
      "outputs": [
        {
          "output_type": "stream",
          "name": "stdout",
          "text": [
            "['Audi', 'BMW', 'Ford']\n"
          ]
        }
      ]
    },
    {
      "cell_type": "code",
      "source": [
        "# pop(): Removes the element at the specified position\n",
        "names.pop(2)\n",
        "#print(names.pop(2))\n",
        "print(names)\n",
        "#names.pop(2)\n",
        "#print(names)\n",
        "print(len(names))"
      ],
      "metadata": {
        "colab": {
          "base_uri": "https://localhost:8080/"
        },
        "id": "qRr5hhlnaydN",
        "outputId": "b085b7a3-94fc-41b4-d55f-2af8fb6a4f89"
      },
      "execution_count": 18,
      "outputs": [
        {
          "output_type": "stream",
          "name": "stdout",
          "text": [
            "['Raj', 'Arjun', 'Priya', 'Kishor', 'Anu', 'Raj', 'Ford', 'BMW', 'Volvo']\n",
            "9\n"
          ]
        }
      ]
    },
    {
      "cell_type": "code",
      "source": [
        "# remove(): Removes the item with the specified value\n",
        "names.remove('Raj')\n",
        "print(names)"
      ],
      "metadata": {
        "colab": {
          "base_uri": "https://localhost:8080/"
        },
        "id": "7jQXGNTna0Wq",
        "outputId": "fec76a64-c2b0-46f7-98ab-471d016384f2"
      },
      "execution_count": 19,
      "outputs": [
        {
          "output_type": "stream",
          "name": "stdout",
          "text": [
            "['Arjun', 'Priya', 'Kishor', 'Anu', 'Raj', 'Ford', 'BMW', 'Volvo']\n"
          ]
        }
      ]
    },
    {
      "cell_type": "code",
      "source": [
        "# reverse(): Reverses the order of the list\n",
        "names.reverse()\n",
        "print(names)"
      ],
      "metadata": {
        "colab": {
          "base_uri": "https://localhost:8080/"
        },
        "id": "sptbiLkza2Oh",
        "outputId": "6dcdb249-f22f-4681-88d1-00511f8ee494"
      },
      "execution_count": 20,
      "outputs": [
        {
          "output_type": "stream",
          "name": "stdout",
          "text": [
            "['Volvo', 'BMW', 'Ford', 'Raj', 'Anu', 'Kishor', 'Priya', 'Arjun']\n"
          ]
        }
      ]
    },
    {
      "cell_type": "code",
      "source": [
        "# sort(): Sorts the list\n",
        "names.sort()\n",
        "print(names)"
      ],
      "metadata": {
        "colab": {
          "base_uri": "https://localhost:8080/"
        },
        "id": "Kei_7VaQa4yf",
        "outputId": "2bd15f17-0142-47cf-f047-abbc8a66fae7"
      },
      "execution_count": 21,
      "outputs": [
        {
          "output_type": "stream",
          "name": "stdout",
          "text": [
            "['Anu', 'Arjun', 'BMW', 'Ford', 'Kishor', 'Priya', 'Raj', 'Volvo']\n"
          ]
        }
      ]
    },
    {
      "cell_type": "markdown",
      "source": [
        "Tuples\n",
        "\n",
        "A tuple is a collection which is ordered and unchangeable.\n",
        "\n",
        "In Python tuples are written with round brackets.\n",
        "\n",
        "The key difference between the tuples and lists is that while the tuples are immutable objects the lists are mutable.\n",
        "\n",
        "This means that tuples cannot be changed while the lists can be modified. Tuples are more memory efficient than the lists.**bold text**"
      ],
      "metadata": {
        "id": "aAdrMj27a8Lg"
      }
    },
    {
      "cell_type": "code",
      "source": [
        "t1=(1,5,8,3,10,3)\n",
        "t2=('Raj', 'Arjun', 'Priya','Kishor','Anu')\n",
        "print(t1,\"\\n\")\n",
        "print(t2)"
      ],
      "metadata": {
        "colab": {
          "base_uri": "https://localhost:8080/"
        },
        "id": "crPX_bHqa9B3",
        "outputId": "d690f12a-63d5-4c51-ac5b-15d5286a2a11"
      },
      "execution_count": 22,
      "outputs": [
        {
          "output_type": "stream",
          "name": "stdout",
          "text": [
            "(1, 5, 8, 3, 10, 3) \n",
            "\n",
            "('Raj', 'Arjun', 'Priya', 'Kishor', 'Anu')\n"
          ]
        }
      ]
    },
    {
      "cell_type": "code",
      "source": [
        "t3 = [\"Raj\",\"Arjun\"]\n",
        "t3"
      ],
      "metadata": {
        "colab": {
          "base_uri": "https://localhost:8080/"
        },
        "id": "AetI9JHFbDHH",
        "outputId": "9f8b44d2-ea70-46fb-8cbd-971d3bc5a33b"
      },
      "execution_count": 23,
      "outputs": [
        {
          "output_type": "execute_result",
          "data": {
            "text/plain": [
              "['Raj', 'Arjun']"
            ]
          },
          "metadata": {},
          "execution_count": 23
        }
      ]
    },
    {
      "cell_type": "code",
      "source": [
        "# Access elements\n",
        "print(t1[0])\n",
        "print(t1[2:])\n",
        "print(t1[:3])"
      ],
      "metadata": {
        "colab": {
          "base_uri": "https://localhost:8080/"
        },
        "id": "WF3nXZJ4bJB3",
        "outputId": "adddc18c-cb6f-4804-8b61-31e1cef6d3c1"
      },
      "execution_count": 24,
      "outputs": [
        {
          "output_type": "stream",
          "name": "stdout",
          "text": [
            "1\n",
            "(8, 3, 10, 3)\n",
            "(1, 5, 8)\n"
          ]
        }
      ]
    },
    {
      "cell_type": "code",
      "source": [
        "# Negative index\n",
        "print(t1[-1])\n",
        "print(t1[-4:])\n",
        "print(t1[:-3])"
      ],
      "metadata": {
        "colab": {
          "base_uri": "https://localhost:8080/"
        },
        "id": "12suppKhbLMq",
        "outputId": "1039856b-d7c7-43cf-a2ca-3b3d4873d0b5"
      },
      "execution_count": 25,
      "outputs": [
        {
          "output_type": "stream",
          "name": "stdout",
          "text": [
            "3\n",
            "(8, 3, 10, 3)\n",
            "(1, 5, 8)\n"
          ]
        }
      ]
    },
    {
      "cell_type": "code",
      "source": [
        "# Looping through tuple\n",
        "for j in t1:\n",
        "    print(j)"
      ],
      "metadata": {
        "colab": {
          "base_uri": "https://localhost:8080/"
        },
        "id": "XWaaFT7cbPJ0",
        "outputId": "93dd7a76-5e8c-498b-9a9c-142c5c4f840e"
      },
      "execution_count": 28,
      "outputs": [
        {
          "output_type": "stream",
          "name": "stdout",
          "text": [
            "1\n",
            "5\n",
            "8\n",
            "3\n",
            "10\n",
            "3\n"
          ]
        }
      ]
    },
    {
      "cell_type": "code",
      "source": [
        "# Check if 'Raj' in t2\n",
        "if \"Raj\" in t2:\n",
        "    print(\"Raj is listed in t2\")\n",
        "print('Raj' in t1)"
      ],
      "metadata": {
        "colab": {
          "base_uri": "https://localhost:8080/"
        },
        "id": "VCDE7Mldbm9o",
        "outputId": "67bc72ae-16ad-456c-b519-a2c31da36863"
      },
      "execution_count": 29,
      "outputs": [
        {
          "output_type": "stream",
          "name": "stdout",
          "text": [
            "Raj is listed in t2\n",
            "False\n"
          ]
        }
      ]
    },
    {
      "cell_type": "code",
      "source": [
        "# tuple with one item\n",
        "T1=(\"Hi\",)\n",
        "print(type(T1))\n",
        "T2=(\"Hi\")\n",
        "print(type(T2))"
      ],
      "metadata": {
        "colab": {
          "base_uri": "https://localhost:8080/"
        },
        "id": "MsUmFRNtbq5Z",
        "outputId": "9b347d48-5758-4aad-f965-f5fe556b8854"
      },
      "execution_count": 30,
      "outputs": [
        {
          "output_type": "stream",
          "name": "stdout",
          "text": [
            "<class 'tuple'>\n",
            "<class 'str'>\n"
          ]
        }
      ]
    },
    {
      "cell_type": "markdown",
      "source": [
        "Methods\n",
        "\n",
        "tuple(): Creates tuple with elements specified.\n",
        "len(): Gives length of tuple, no. of elements in tuple.\n",
        "t1 + t2 : Adds two tuples\n",
        "del(): Deletes tuple\n",
        "count(): Returns the number of times a specified value occurs in a tuple.\n",
        "index(): Searches the tuple for a specified value and returns the position of where it was found."
      ],
      "metadata": {
        "id": "vpKuVPYxbtto"
      }
    },
    {
      "cell_type": "code",
      "source": [
        "# tuple(): Creates tuple with elements specified.\n",
        "t=tuple((0,2,4,6,0,2,2,5,2,0,2,3,4))\n",
        "print(t)"
      ],
      "metadata": {
        "colab": {
          "base_uri": "https://localhost:8080/"
        },
        "id": "UKHIEGAscEpI",
        "outputId": "83896fd4-2a7f-4e62-c85a-4fdbf2ff09e4"
      },
      "execution_count": 31,
      "outputs": [
        {
          "output_type": "stream",
          "name": "stdout",
          "text": [
            "(0, 2, 4, 6, 0, 2, 2, 5, 2, 0, 2, 3, 4)\n"
          ]
        }
      ]
    },
    {
      "cell_type": "code",
      "source": [
        "# len(): Gives length of tuple, no. of elements in tuple.\n",
        "len(t)"
      ],
      "metadata": {
        "colab": {
          "base_uri": "https://localhost:8080/"
        },
        "id": "grRHUvj_cIFq",
        "outputId": "c5877595-0a55-4d2d-f4e3-4b0dc6301bb2"
      },
      "execution_count": 32,
      "outputs": [
        {
          "output_type": "execute_result",
          "data": {
            "text/plain": [
              "13"
            ]
          },
          "metadata": {},
          "execution_count": 32
        }
      ]
    },
    {
      "cell_type": "code",
      "source": [
        "# t1 + t2 : Adds two tuples\n",
        "t + t1"
      ],
      "metadata": {
        "colab": {
          "base_uri": "https://localhost:8080/"
        },
        "id": "b25MIqN_cUHn",
        "outputId": "841ce723-2645-43e9-8c2c-2b373b774530"
      },
      "execution_count": 33,
      "outputs": [
        {
          "output_type": "execute_result",
          "data": {
            "text/plain": [
              "(0, 2, 4, 6, 0, 2, 2, 5, 2, 0, 2, 3, 4, 1, 5, 8, 3, 10, 3)"
            ]
          },
          "metadata": {},
          "execution_count": 33
        }
      ]
    },
    {
      "cell_type": "code",
      "source": [
        "# del(): Deletes tuple\n",
        "print(t1)\n",
        "del t1\n"
      ],
      "metadata": {
        "colab": {
          "base_uri": "https://localhost:8080/"
        },
        "id": "4PkRkkjTcWXR",
        "outputId": "ab0fd680-da9a-4fd9-b92b-1e8a8c9a19cf"
      },
      "execution_count": 34,
      "outputs": [
        {
          "output_type": "stream",
          "name": "stdout",
          "text": [
            "(1, 5, 8, 3, 10, 3)\n"
          ]
        }
      ]
    },
    {
      "cell_type": "code",
      "source": [
        "# count(): Returns the number of times a specified value occurs in a tuple.\n",
        "print(t)\n",
        "t.count(2)"
      ],
      "metadata": {
        "colab": {
          "base_uri": "https://localhost:8080/"
        },
        "id": "cbLMPV-bcZxd",
        "outputId": "04c4af04-8a3b-4ac2-b42b-51c868a49c15"
      },
      "execution_count": 35,
      "outputs": [
        {
          "output_type": "stream",
          "name": "stdout",
          "text": [
            "(0, 2, 4, 6, 0, 2, 2, 5, 2, 0, 2, 3, 4)\n"
          ]
        },
        {
          "output_type": "execute_result",
          "data": {
            "text/plain": [
              "5"
            ]
          },
          "metadata": {},
          "execution_count": 35
        }
      ]
    },
    {
      "cell_type": "code",
      "source": [
        "# index(): Searches the tuple for a specified value and returns the position of where it was found.\n",
        "print(t)\n",
        "t.index(2)"
      ],
      "metadata": {
        "colab": {
          "base_uri": "https://localhost:8080/"
        },
        "id": "zNrMOk9ocjeI",
        "outputId": "89e88d23-c4b3-4fa9-f22d-c4a608d29c2d"
      },
      "execution_count": 36,
      "outputs": [
        {
          "output_type": "stream",
          "name": "stdout",
          "text": [
            "(0, 2, 4, 6, 0, 2, 2, 5, 2, 0, 2, 3, 4)\n"
          ]
        },
        {
          "output_type": "execute_result",
          "data": {
            "text/plain": [
              "1"
            ]
          },
          "metadata": {},
          "execution_count": 36
        }
      ]
    },
    {
      "cell_type": "code",
      "source": [
        "t = (1,2,5,'a','b', (1,'c'))\n",
        "print(t)"
      ],
      "metadata": {
        "colab": {
          "base_uri": "https://localhost:8080/"
        },
        "id": "gezt-Micclx7",
        "outputId": "67858fbf-0549-4273-fa20-2cfcace05f7c"
      },
      "execution_count": 37,
      "outputs": [
        {
          "output_type": "stream",
          "name": "stdout",
          "text": [
            "(1, 2, 5, 'a', 'b', (1, 'c'))\n"
          ]
        }
      ]
    },
    {
      "cell_type": "markdown",
      "source": [
        "Sets\n",
        "\n",
        "\n",
        "A set is a collection which is unordered and unindexed. In Python sets are written with curly brackets."
      ],
      "metadata": {
        "id": "9tb15Jz6co1Q"
      }
    },
    {
      "cell_type": "code",
      "source": [
        "set1={1,3,8,9,4,3,5,2,1}\n",
        "print(set1,\"\\n\")\n",
        "set2={'A','C','D','A','X'}\n",
        "print(set2)"
      ],
      "metadata": {
        "colab": {
          "base_uri": "https://localhost:8080/"
        },
        "id": "mNv-7zqvcqa_",
        "outputId": "a37cdc8e-a1cf-4b3a-a9c5-cd51539caab1"
      },
      "execution_count": 38,
      "outputs": [
        {
          "output_type": "stream",
          "name": "stdout",
          "text": [
            "{1, 2, 3, 4, 5, 8, 9} \n",
            "\n",
            "{'A', 'X', 'D', 'C'}\n"
          ]
        }
      ]
    },
    {
      "cell_type": "markdown",
      "source": [
        "Access items\n",
        "\n",
        "You cannot access items in a set by referring to an index,\n",
        "since sets are unordered the items has no index."
      ],
      "metadata": {
        "id": "YXwxCHSlcuhX"
      }
    },
    {
      "cell_type": "code",
      "source": [
        "# Access items\n",
        "# loop through the set items using a for loop\n",
        "for j in set1:\n",
        "    print(j)\n",
        "print('A' in set2)"
      ],
      "metadata": {
        "colab": {
          "base_uri": "https://localhost:8080/"
        },
        "id": "TgEnwSB0cwIa",
        "outputId": "5e385425-0e34-4034-e9db-8651ae56202a"
      },
      "execution_count": 39,
      "outputs": [
        {
          "output_type": "stream",
          "name": "stdout",
          "text": [
            "1\n",
            "2\n",
            "3\n",
            "4\n",
            "5\n",
            "8\n",
            "9\n",
            "True\n"
          ]
        }
      ]
    },
    {
      "cell_type": "markdown",
      "source": [
        "Methods\n",
        "\n",
        "\n",
        "add(): Adds an element to the set\n",
        "\n",
        "clear(): Removes all the elements from the set\n",
        "\n",
        "copy(): Returns a copy of the set\n",
        "\n",
        "difference(): Returns a set containing the difference between two or more sets\n",
        "\n",
        "difference_update(): Removes the items in this set that are also included in another, specified set\n",
        "\n",
        "discard(): Remove the specified item\n",
        "\n",
        "intersection(): Returns a set, that is the intersection of two other sets\n",
        "\n",
        "intersection_update(): Removes the items in this set that are not present in other, specified set(s)\n",
        "\n",
        "isdisjoint(): Returns whether two sets have a intersection or not\n",
        "\n",
        "issubset(): Returns whether another set contains this set or not\n",
        "\n",
        "issuperset(): Returns whether this set contains another set or not\n",
        "\n",
        "len(): Finds length of set\n",
        "\n",
        "pop(): Removes an element from the set\n",
        "\n",
        "remove(): Removes the specified element\n",
        "\n",
        "symmetric_difference(): Returns a set with the symmetric differences of two sets\n",
        "\n",
        "symmetric_difference_update(): inserts the symmetric differences from this set and another\n",
        "\n",
        "union(): Return a set containing the union of sets\n",
        "\n",
        "update(): Update the set with the union of this set and others"
      ],
      "metadata": {
        "id": "P6xHF6LqdAO3"
      }
    },
    {
      "cell_type": "code",
      "source": [
        "# add(): Adds an element to the set\n",
        "print(set1)\n",
        "set1.add(12)\n",
        "print(set1)"
      ],
      "metadata": {
        "colab": {
          "base_uri": "https://localhost:8080/"
        },
        "id": "3Tn18riqdNiv",
        "outputId": "730d45aa-844b-4811-8525-5a361b16e669"
      },
      "execution_count": 40,
      "outputs": [
        {
          "output_type": "stream",
          "name": "stdout",
          "text": [
            "{1, 2, 3, 4, 5, 8, 9}\n",
            "{1, 2, 3, 4, 5, 8, 9, 12}\n"
          ]
        }
      ]
    },
    {
      "cell_type": "code",
      "source": [
        "# copy(): Returns a copy of the set\n",
        "set1=set2.copy()\n",
        "print(set1)"
      ],
      "metadata": {
        "colab": {
          "base_uri": "https://localhost:8080/"
        },
        "id": "yv-PBRwndRhp",
        "outputId": "452ee962-b1ea-437f-81a9-96fcf1038019"
      },
      "execution_count": 41,
      "outputs": [
        {
          "output_type": "stream",
          "name": "stdout",
          "text": [
            "{'A', 'X', 'D', 'C'}\n"
          ]
        }
      ]
    },
    {
      "cell_type": "code",
      "source": [
        "# clear(): Removes all the elements from the set\n",
        "set2.clear()\n",
        "print(set2)"
      ],
      "metadata": {
        "colab": {
          "base_uri": "https://localhost:8080/"
        },
        "id": "IPQM-rDedToP",
        "outputId": "4f6af66f-7133-41d5-abd4-f782b97723c6"
      },
      "execution_count": 42,
      "outputs": [
        {
          "output_type": "stream",
          "name": "stdout",
          "text": [
            "set()\n"
          ]
        }
      ]
    },
    {
      "cell_type": "code",
      "source": [
        "# difference(): Returns a set containing the difference between two or more sets\n",
        "x = {\"apple\", \"banana\", \"cherry\"}\n",
        "y = {\"samsung\", \"mi\", \"apple\"}\n",
        "\n",
        "z = y.difference(x)\n",
        "print(z)"
      ],
      "metadata": {
        "colab": {
          "base_uri": "https://localhost:8080/"
        },
        "id": "fRVXWYw0dV4P",
        "outputId": "a3369897-7223-43cf-bc4e-1d9717ad2cd5"
      },
      "execution_count": 43,
      "outputs": [
        {
          "output_type": "stream",
          "name": "stdout",
          "text": [
            "{'mi', 'samsung'}\n"
          ]
        }
      ]
    },
    {
      "cell_type": "code",
      "source": [
        "# difference_update(): Removes the items in this set that are also included in another, specified set\n",
        "x = {\"apple\", \"banana\", \"cherry\"}\n",
        "y = {\"samsung\", \"mi\", \"apple\"}\n",
        "\n",
        "y.difference_update(x)\n",
        "print(y)"
      ],
      "metadata": {
        "colab": {
          "base_uri": "https://localhost:8080/"
        },
        "id": "0ARJcTlfdYdp",
        "outputId": "0f191f6f-28dc-48e6-d8ec-6b55b9c82523"
      },
      "execution_count": 44,
      "outputs": [
        {
          "output_type": "stream",
          "name": "stdout",
          "text": [
            "{'mi', 'samsung'}\n"
          ]
        }
      ]
    },
    {
      "cell_type": "code",
      "source": [
        "# discard(): Remove the specified item\n",
        "print(set1)\n",
        "set1.discard('X')\n",
        "print(set1)"
      ],
      "metadata": {
        "colab": {
          "base_uri": "https://localhost:8080/"
        },
        "id": "JXZD6dp5dcT_",
        "outputId": "74b1d734-706e-46d6-feb6-24a2b0a2c1a0"
      },
      "execution_count": 45,
      "outputs": [
        {
          "output_type": "stream",
          "name": "stdout",
          "text": [
            "{'A', 'X', 'D', 'C'}\n",
            "{'A', 'D', 'C'}\n"
          ]
        }
      ]
    },
    {
      "cell_type": "code",
      "source": [
        "# intersection(): Returns a set, that is the intersection of two other sets\n",
        "x = {\"apple\", \"banana\", \"cherry\"}\n",
        "y = {\"samsung\", \"mi\", \"apple\"}\n",
        "\n",
        "z = y.intersection(x)\n",
        "print(z)"
      ],
      "metadata": {
        "colab": {
          "base_uri": "https://localhost:8080/"
        },
        "id": "kL442sJEdepH",
        "outputId": "78dd1e9d-43d5-44c1-8b87-f0273679426a"
      },
      "execution_count": 46,
      "outputs": [
        {
          "output_type": "stream",
          "name": "stdout",
          "text": [
            "{'apple'}\n"
          ]
        }
      ]
    },
    {
      "cell_type": "code",
      "source": [
        "# intersection_update(): Removes the items in this set that are not present in other, specified set(s)\n",
        "x = {\"apple\", \"banana\", \"cherry\"}\n",
        "y = {\"samsung\", \"mi\", \"apple\"}\n",
        "\n",
        "y.intersection_update(x)\n",
        "print(y)"
      ],
      "metadata": {
        "colab": {
          "base_uri": "https://localhost:8080/"
        },
        "id": "3TSwei6zdghv",
        "outputId": "03580172-ae60-44d3-e015-725d8b8f9d39"
      },
      "execution_count": 47,
      "outputs": [
        {
          "output_type": "stream",
          "name": "stdout",
          "text": [
            "{'apple'}\n"
          ]
        }
      ]
    },
    {
      "cell_type": "code",
      "source": [
        "# isdisjoint(): Returns whether two sets have a intersection or not\n",
        "x = {\"apple\", \"banana\", \"cherry\"}\n",
        "y = {\"samsung\", \"mi\", \"apple\"}\n",
        "\n",
        "z = x.isdisjoint(y)\n",
        "print(z)"
      ],
      "metadata": {
        "colab": {
          "base_uri": "https://localhost:8080/"
        },
        "id": "x69kFPsAdi4i",
        "outputId": "e571b310-5864-493b-b88a-5cba89e82f92"
      },
      "execution_count": 48,
      "outputs": [
        {
          "output_type": "stream",
          "name": "stdout",
          "text": [
            "False\n"
          ]
        }
      ]
    },
    {
      "cell_type": "code",
      "source": [
        "# issubset(): Returns whether another set contains this set or not\n",
        "x = {\"apple\", \"banana\", \"cherry\"}\n",
        "y = {\"samsung\", \"mi\", \"apple\"}#,'banana','cherry'}\n",
        "\n",
        "z = y.issubset(x)\n",
        "print(z)"
      ],
      "metadata": {
        "colab": {
          "base_uri": "https://localhost:8080/"
        },
        "id": "j4iPz35kdlYn",
        "outputId": "07f6f747-3be1-4d8e-b7da-ad4d0493e5ed"
      },
      "execution_count": 49,
      "outputs": [
        {
          "output_type": "stream",
          "name": "stdout",
          "text": [
            "False\n"
          ]
        }
      ]
    },
    {
      "cell_type": "code",
      "source": [
        "# issuperset(): Returns whether this set contains another set or not\n",
        "x = {\"apple\", \"banana\", \"cherry\"}\n",
        "y = {\"samsung\", \"mi\", \"apple\",'banana','cherry'}\n",
        "\n",
        "z = y.issuperset(x)\n",
        "print(z)"
      ],
      "metadata": {
        "colab": {
          "base_uri": "https://localhost:8080/"
        },
        "id": "irIgIxVudneH",
        "outputId": "f2c9a4a8-1dd0-4805-b9ec-92ead6dd4a75"
      },
      "execution_count": 50,
      "outputs": [
        {
          "output_type": "stream",
          "name": "stdout",
          "text": [
            "True\n"
          ]
        }
      ]
    },
    {
      "cell_type": "code",
      "source": [
        "# len(): Finds length of set\n",
        "len(x)"
      ],
      "metadata": {
        "colab": {
          "base_uri": "https://localhost:8080/"
        },
        "id": "QBj7KIksdpa7",
        "outputId": "dcb09c5f-aa96-4ae2-a70c-835eb1aa2585"
      },
      "execution_count": 51,
      "outputs": [
        {
          "output_type": "execute_result",
          "data": {
            "text/plain": [
              "3"
            ]
          },
          "metadata": {},
          "execution_count": 51
        }
      ]
    },
    {
      "cell_type": "code",
      "source": [
        "# pop(): Removes an element from the set and returns the removed value.\n",
        "print(x)\n",
        "print(x.pop())\n",
        "print(x)"
      ],
      "metadata": {
        "colab": {
          "base_uri": "https://localhost:8080/"
        },
        "id": "b0mk1QWQdurI",
        "outputId": "1e1e5326-c284-4a7a-caa0-76cb6a3cbc5c"
      },
      "execution_count": 52,
      "outputs": [
        {
          "output_type": "stream",
          "name": "stdout",
          "text": [
            "{'banana', 'apple', 'cherry'}\n",
            "banana\n",
            "{'apple', 'cherry'}\n"
          ]
        }
      ]
    },
    {
      "cell_type": "code",
      "source": [
        "# remove(): Removes the specified element\n",
        "#y={'samsung', 'apple', 'mi'}\n",
        "print(y)\n",
        "y.remove('mi')\n",
        "#y.remove('MI')\n",
        "#y.discard('MI')\n",
        "print(y)"
      ],
      "metadata": {
        "colab": {
          "base_uri": "https://localhost:8080/"
        },
        "id": "6ZYaZwtzdxGk",
        "outputId": "85d482cd-1028-441b-af26-6a8e6fb942d3"
      },
      "execution_count": 53,
      "outputs": [
        {
          "output_type": "stream",
          "name": "stdout",
          "text": [
            "{'apple', 'samsung', 'cherry', 'banana', 'mi'}\n",
            "{'apple', 'samsung', 'cherry', 'banana'}\n"
          ]
        }
      ]
    },
    {
      "cell_type": "code",
      "source": [
        "# symmetric_difference(): Returns a set with the symmetric differences of two sets\n",
        "x = {\"apple\", \"banana\", \"cherry\"}\n",
        "y = {\"samsung\", \"mi\", \"apple\"}\n",
        "\n",
        "z = y.symmetric_difference(x)\n",
        "print(z)"
      ],
      "metadata": {
        "colab": {
          "base_uri": "https://localhost:8080/"
        },
        "id": "JbhrExm3dzku",
        "outputId": "2d8a226b-63ae-481c-8a56-ecab1a85282e"
      },
      "execution_count": 54,
      "outputs": [
        {
          "output_type": "stream",
          "name": "stdout",
          "text": [
            "{'samsung', 'cherry', 'banana', 'mi'}\n"
          ]
        }
      ]
    },
    {
      "cell_type": "code",
      "source": [
        "# symmetric_difference_update(): inserts the symmetric differences from this set and another\n",
        "x = {\"apple\", \"banana\", \"cherry\"}\n",
        "y = {\"samsung\", \"mi\", \"apple\"}\n",
        "\n",
        "y.symmetric_difference_update(x)\n",
        "print(y)"
      ],
      "metadata": {
        "colab": {
          "base_uri": "https://localhost:8080/"
        },
        "id": "HmaZf2a1d21Y",
        "outputId": "2adc4553-9ef9-4065-8ac9-a35867755452"
      },
      "execution_count": 55,
      "outputs": [
        {
          "output_type": "stream",
          "name": "stdout",
          "text": [
            "{'banana', 'cherry', 'mi', 'samsung'}\n"
          ]
        }
      ]
    },
    {
      "cell_type": "code",
      "source": [
        "# union(): Return a set containing the union of sets\n",
        "x = {\"apple\", \"banana\", \"cherry\"}\n",
        "y = {\"samsung\", \"mi\", \"apple\"}\n",
        "\n",
        "z=x.union(y)\n",
        "print(z)"
      ],
      "metadata": {
        "colab": {
          "base_uri": "https://localhost:8080/"
        },
        "id": "EpXYSC1vd43x",
        "outputId": "cb34ca70-0a6a-4762-b9a9-e69c15bae2c7"
      },
      "execution_count": 56,
      "outputs": [
        {
          "output_type": "stream",
          "name": "stdout",
          "text": [
            "{'cherry', 'banana', 'apple', 'mi', 'samsung'}\n"
          ]
        }
      ]
    },
    {
      "cell_type": "code",
      "source": [
        "# update(): Update the set with the union of this set and others\n",
        "x = {\"apple\", \"banana\", \"cherry\"}\n",
        "y = {\"samsung\", \"mi\", \"apple\"}\n",
        "\n",
        "x.update(y)\n",
        "print(x)"
      ],
      "metadata": {
        "colab": {
          "base_uri": "https://localhost:8080/"
        },
        "id": "Zlx6lYkAd68F",
        "outputId": "77d470a3-416b-4a04-af7f-84387ac57864"
      },
      "execution_count": 57,
      "outputs": [
        {
          "output_type": "stream",
          "name": "stdout",
          "text": [
            "{'cherry', 'banana', 'apple', 'mi', 'samsung'}\n"
          ]
        }
      ]
    },
    {
      "cell_type": "markdown",
      "source": [
        "Dictionary\n",
        "\n",
        "A dictionary is a collection which is unordered, changeable and indexed. In Python dictionaries are written with curly brackets, and they have keys and values."
      ],
      "metadata": {
        "id": "seMy8pQ4eEgx"
      }
    },
    {
      "cell_type": "code",
      "source": [
        "d1={\"Name\": \"Ankit\",\"Class\": '12th','Roll No.': 25, 'Result': \"Pass\"}\n",
        "print(d1) "
      ],
      "metadata": {
        "colab": {
          "base_uri": "https://localhost:8080/"
        },
        "id": "g4nNRKDKeF9b",
        "outputId": "73281e62-dd85-4f1f-af98-b542574b079f"
      },
      "execution_count": 58,
      "outputs": [
        {
          "output_type": "stream",
          "name": "stdout",
          "text": [
            "{'Name': 'Ankit', 'Class': '12th', 'Roll No.': 25, 'Result': 'Pass'}\n"
          ]
        }
      ]
    },
    {
      "cell_type": "code",
      "source": [
        "# Accessing Items\n",
        "# You can access the items of a dictionary by referring to its key name, inside square brackets.\n",
        "d1['Roll No.']"
      ],
      "metadata": {
        "colab": {
          "base_uri": "https://localhost:8080/"
        },
        "id": "YR-K5PoqedSo",
        "outputId": "73b8b1aa-72ae-44f5-c611-7fc1e071729b"
      },
      "execution_count": 61,
      "outputs": [
        {
          "output_type": "execute_result",
          "data": {
            "text/plain": [
              "25"
            ]
          },
          "metadata": {},
          "execution_count": 61
        }
      ]
    },
    {
      "cell_type": "code",
      "source": [
        "# get() function\n",
        "d1.get('Roll No.')"
      ],
      "metadata": {
        "colab": {
          "base_uri": "https://localhost:8080/"
        },
        "id": "PvweOlI1etbJ",
        "outputId": "1c0ddc52-707c-4e04-b287-7bd81b6ac167"
      },
      "execution_count": 62,
      "outputs": [
        {
          "output_type": "execute_result",
          "data": {
            "text/plain": [
              "25"
            ]
          },
          "metadata": {},
          "execution_count": 62
        }
      ]
    },
    {
      "cell_type": "code",
      "source": [
        "# Change values\n",
        "d1['Name']='Tushar'\n",
        "print(d1)"
      ],
      "metadata": {
        "colab": {
          "base_uri": "https://localhost:8080/"
        },
        "id": "mESLrsnne0kI",
        "outputId": "752f7ebc-573a-4304-9a43-b95c4514e12a"
      },
      "execution_count": 63,
      "outputs": [
        {
          "output_type": "stream",
          "name": "stdout",
          "text": [
            "{'Name': 'Tushar', 'Class': '12th', 'Roll No.': 25, 'Result': 'Pass'}\n"
          ]
        }
      ]
    },
    {
      "cell_type": "code",
      "source": [
        "# Looping through dictionary\n",
        "for j in d1:\n",
        "    print(j)"
      ],
      "metadata": {
        "colab": {
          "base_uri": "https://localhost:8080/"
        },
        "id": "X09sX0Eue30Q",
        "outputId": "0780914b-3a27-4aab-d84e-38e0572d2d00"
      },
      "execution_count": 64,
      "outputs": [
        {
          "output_type": "stream",
          "name": "stdout",
          "text": [
            "Name\n",
            "Class\n",
            "Roll No.\n",
            "Result\n"
          ]
        }
      ]
    },
    {
      "cell_type": "code",
      "source": [
        "for j in d1:\n",
        "    print(d1[j])"
      ],
      "metadata": {
        "colab": {
          "base_uri": "https://localhost:8080/"
        },
        "id": "0kWxazOae7xW",
        "outputId": "71fc3a87-6ba6-4ec8-8e2a-21ad31c2bb41"
      },
      "execution_count": 65,
      "outputs": [
        {
          "output_type": "stream",
          "name": "stdout",
          "text": [
            "Tushar\n",
            "12th\n",
            "25\n",
            "Pass\n"
          ]
        }
      ]
    },
    {
      "cell_type": "code",
      "source": [
        "# Extract keys\n",
        "d1.keys()"
      ],
      "metadata": {
        "colab": {
          "base_uri": "https://localhost:8080/"
        },
        "id": "Wv5llepEe-hB",
        "outputId": "5ba70ae8-a15e-406c-cd76-782fc3c49f3c"
      },
      "execution_count": 66,
      "outputs": [
        {
          "output_type": "execute_result",
          "data": {
            "text/plain": [
              "dict_keys(['Name', 'Class', 'Roll No.', 'Result'])"
            ]
          },
          "metadata": {},
          "execution_count": 66
        }
      ]
    },
    {
      "cell_type": "code",
      "source": [
        "# Extract values\n",
        "d1.values()"
      ],
      "metadata": {
        "colab": {
          "base_uri": "https://localhost:8080/"
        },
        "id": "VrMtD7fqfAyS",
        "outputId": "805b98b4-e51f-4ad2-9a91-08a6c858e59d"
      },
      "execution_count": 67,
      "outputs": [
        {
          "output_type": "execute_result",
          "data": {
            "text/plain": [
              "dict_values(['Tushar', '12th', 25, 'Pass'])"
            ]
          },
          "metadata": {},
          "execution_count": 67
        }
      ]
    },
    {
      "cell_type": "code",
      "source": [
        "# Extract keys and values both\n",
        "d1.items()"
      ],
      "metadata": {
        "colab": {
          "base_uri": "https://localhost:8080/"
        },
        "id": "vtLAhsIrfCmS",
        "outputId": "c09e1fdf-2cf5-43cc-bf4a-2fe5e73345c4"
      },
      "execution_count": 68,
      "outputs": [
        {
          "output_type": "execute_result",
          "data": {
            "text/plain": [
              "dict_items([('Name', 'Tushar'), ('Class', '12th'), ('Roll No.', 25), ('Result', 'Pass')])"
            ]
          },
          "metadata": {},
          "execution_count": 68
        }
      ]
    },
    {
      "cell_type": "code",
      "source": [
        "for k,v in d1.items():\n",
        "    print(k,v)"
      ],
      "metadata": {
        "colab": {
          "base_uri": "https://localhost:8080/"
        },
        "id": "YsUEPlyhfR4u",
        "outputId": "5afb77aa-d871-4da5-c442-83b489a5c8ad"
      },
      "execution_count": 69,
      "outputs": [
        {
          "output_type": "stream",
          "name": "stdout",
          "text": [
            "Name Tushar\n",
            "Class 12th\n",
            "Roll No. 25\n",
            "Result Pass\n"
          ]
        }
      ]
    },
    {
      "cell_type": "code",
      "source": [
        "# Check existance of key\n",
        "print('Names' in d1,'\\n')\n",
        "if 'Names' in d1:\n",
        "    print('Name exists in disctionary')"
      ],
      "metadata": {
        "colab": {
          "base_uri": "https://localhost:8080/"
        },
        "id": "hg4B8QnOfT4S",
        "outputId": "ea31f836-c7af-489b-fd9a-e02ee9b2d65a"
      },
      "execution_count": 70,
      "outputs": [
        {
          "output_type": "stream",
          "name": "stdout",
          "text": [
            "False \n",
            "\n"
          ]
        }
      ]
    },
    {
      "cell_type": "code",
      "source": [
        "# Nested dictionary\n",
        "myfamily = {\n",
        "  \"child1\" : {\n",
        "    \"name\" : \"kruti\",\n",
        "    \"year\" : 2004\n",
        "  },\n",
        "  \"child2\" : {\n",
        "    \"name\" : \"Akruti\",\n",
        "    \"year\" : 2007\n",
        "  },\n",
        "  \"child3\" : {\n",
        "    \"name\" : \"Sanskruti\",\n",
        "    \"year\" : 2011\n",
        "  }\n",
        "}\n",
        "print(myfamily)"
      ],
      "metadata": {
        "colab": {
          "base_uri": "https://localhost:8080/"
        },
        "id": "5wGWtuggfWAN",
        "outputId": "7353417d-f92f-4a96-ba5e-bf063f70939d"
      },
      "execution_count": 71,
      "outputs": [
        {
          "output_type": "stream",
          "name": "stdout",
          "text": [
            "{'child1': {'name': 'kruti', 'year': 2004}, 'child2': {'name': 'Akruti', 'year': 2007}, 'child3': {'name': 'Sanskruti', 'year': 2011}}\n"
          ]
        }
      ]
    },
    {
      "cell_type": "code",
      "source": [
        "child1 = { \"name\" : \"kruti\",\"year\" : 2004}\n",
        "child2 = {\"name\" : \"Akruti\",\"year\" : 2007}\n",
        "child3 = {\"name\" : \"Sanskruti\",\"year\" : 2011}\n",
        "child4 = [\"asfasf\",\"sfasfas\",\"fdga\"]\n",
        "myfamily = { \"child10\" : child1, \"child20\" : child2, \"child30\" : child3\n",
        "            ,\"child40\":child4}\n",
        "\n",
        "print(myfamily)"
      ],
      "metadata": {
        "colab": {
          "base_uri": "https://localhost:8080/"
        },
        "id": "KxtVwlyhfYej",
        "outputId": "56628b2e-186e-49a6-872a-7d8633fea7a2"
      },
      "execution_count": 72,
      "outputs": [
        {
          "output_type": "stream",
          "name": "stdout",
          "text": [
            "{'child10': {'name': 'kruti', 'year': 2004}, 'child20': {'name': 'Akruti', 'year': 2007}, 'child30': {'name': 'Sanskruti', 'year': 2011}, 'child40': ['asfasf', 'sfasfas', 'fdga']}\n"
          ]
        }
      ]
    },
    {
      "cell_type": "markdown",
      "source": [
        "Methods\n",
        "\n",
        "clear(): Removes all the elements from the dictionary\n",
        "\n",
        "copy(): Returns a copy of the dictionary\n",
        "\n",
        "fromkeys(): Returns a dictionary with the specified keys and values\n",
        "\n",
        "pop(): Removes the element with the specified key\n",
        "\n",
        "popitem(): Removes the last inserted key-value pair\n",
        "\n",
        "setdefault(): Returns the value of the specified key. If the key does not \n",
        "\n",
        "exist: insert the key, with the specified value\n",
        "\n",
        "update(): Updates the dictionary with the specified key-value pairs"
      ],
      "metadata": {
        "id": "99zLpy3ifa34"
      }
    },
    {
      "cell_type": "code",
      "source": [
        "# clear(): Removes all the elements from the dictionary\n",
        "print(d1)\n",
        "d1.clear()\n",
        "print(d1)"
      ],
      "metadata": {
        "colab": {
          "base_uri": "https://localhost:8080/"
        },
        "id": "gwZZtGWYfgeu",
        "outputId": "5b590e5c-6096-40eb-f4b8-29ecc15230d3"
      },
      "execution_count": 73,
      "outputs": [
        {
          "output_type": "stream",
          "name": "stdout",
          "text": [
            "{'Name': 'Tushar', 'Class': '12th', 'Roll No.': 25, 'Result': 'Pass'}\n",
            "{}\n"
          ]
        }
      ]
    },
    {
      "cell_type": "code",
      "source": [
        "# copy(): Returns a copy of the dictionary d2 = d1\n",
        "d1={'Name': 'Ankit', 'Class': '12th', 'Roll No.': 25, 'Result': 'Pass'}\n",
        "d3= d1\n",
        "print(d3)\n",
        "D=d1.copy()\n",
        "print(D)"
      ],
      "metadata": {
        "colab": {
          "base_uri": "https://localhost:8080/"
        },
        "id": "MYosoNRUfjkj",
        "outputId": "13cb20f8-1bfe-4814-8df3-585b5f556c04"
      },
      "execution_count": 74,
      "outputs": [
        {
          "output_type": "stream",
          "name": "stdout",
          "text": [
            "{'Name': 'Ankit', 'Class': '12th', 'Roll No.': 25, 'Result': 'Pass'}\n",
            "{'Name': 'Ankit', 'Class': '12th', 'Roll No.': 25, 'Result': 'Pass'}\n"
          ]
        }
      ]
    },
    {
      "cell_type": "code",
      "source": [
        "# fromkeys(): Returns a dictionary with the specified keys and values\n",
        "x = ('key1', 'key2', 'key3')\n",
        "y = 0\n",
        "z=dict.fromkeys(x,y)\n",
        "print(z)"
      ],
      "metadata": {
        "colab": {
          "base_uri": "https://localhost:8080/"
        },
        "id": "9JB1FFnufloh",
        "outputId": "f33ecc3e-764b-49e8-b3b9-7b4cd8176d8a"
      },
      "execution_count": 75,
      "outputs": [
        {
          "output_type": "stream",
          "name": "stdout",
          "text": [
            "{'key1': 0, 'key2': 0, 'key3': 0}\n"
          ]
        }
      ]
    },
    {
      "cell_type": "code",
      "source": [
        "# popitem(): Removes the last inserted key-value pair\n",
        "print(d1)\n",
        "d1.popitem()\n",
        "print(d1)"
      ],
      "metadata": {
        "colab": {
          "base_uri": "https://localhost:8080/"
        },
        "id": "FBdPTi2wfofb",
        "outputId": "49845310-f019-47ac-93c1-91a7fab9cb1a"
      },
      "execution_count": 76,
      "outputs": [
        {
          "output_type": "stream",
          "name": "stdout",
          "text": [
            "{'Name': 'Ankit', 'Class': '12th', 'Roll No.': 25, 'Result': 'Pass'}\n",
            "{'Name': 'Ankit', 'Class': '12th', 'Roll No.': 25}\n"
          ]
        }
      ]
    },
    {
      "cell_type": "code",
      "source": [
        "# setdefault(): Returns the value of the specified key. \n",
        "# If the key does not exist: insert the key, with the specified value\n",
        "d1={'Name': 'Ankit', 'Class': '12th', 'Roll No.': 25, 'Result': 'Pass'}\n",
        "print(d1)\n",
        "d2=d1.setdefault(\"Class\")\n",
        "print(d2)\n",
        "d3=d1.setdefault(\"Location\",'Pune')\n",
        "print(d1)"
      ],
      "metadata": {
        "colab": {
          "base_uri": "https://localhost:8080/"
        },
        "id": "uu_HwUMVfq8X",
        "outputId": "ce570818-aec8-425f-ec2a-f13549e477ef"
      },
      "execution_count": 77,
      "outputs": [
        {
          "output_type": "stream",
          "name": "stdout",
          "text": [
            "{'Name': 'Ankit', 'Class': '12th', 'Roll No.': 25, 'Result': 'Pass'}\n",
            "12th\n",
            "{'Name': 'Ankit', 'Class': '12th', 'Roll No.': 25, 'Result': 'Pass', 'Location': 'Pune'}\n"
          ]
        }
      ]
    },
    {
      "cell_type": "code",
      "source": [
        "# update(): Updates the dictionary with the specified key-value pairs\n",
        "print(d1)\n",
        "d1.update({\"Division\":\"A\"})\n",
        "print(d1)"
      ],
      "metadata": {
        "colab": {
          "base_uri": "https://localhost:8080/"
        },
        "id": "6ABbsbCYftSJ",
        "outputId": "da745f1a-ed2c-4120-a44c-2cc504dfad49"
      },
      "execution_count": 78,
      "outputs": [
        {
          "output_type": "stream",
          "name": "stdout",
          "text": [
            "{'Name': 'Ankit', 'Class': '12th', 'Roll No.': 25, 'Result': 'Pass', 'Location': 'Pune'}\n",
            "{'Name': 'Ankit', 'Class': '12th', 'Roll No.': 25, 'Result': 'Pass', 'Location': 'Pune', 'Division': 'A'}\n"
          ]
        }
      ]
    },
    {
      "cell_type": "code",
      "source": [
        "class1= [\"sanket\",\"ganesh\",\"raj\",\"anu\"]  ## TYpe\n",
        "tuple1=('Raj', 'Arjun', 'Priya','Kishor','Anu') ##Type\n",
        "set1 = {\"sanket\",\"ganesj\",'hrutwik'} #Type\n",
        "dict1 = {\"sanket\":\"1\",\"ganesh\":\"2\",\"hrutwik\": \"3\"}# dict??"
      ],
      "metadata": {
        "id": "PbruHJlTfvxE"
      },
      "execution_count": 79,
      "outputs": []
    },
    {
      "cell_type": "code",
      "source": [
        "a= {\"apple\", \"banana\", \"cherry\", \"apple\"}\n",
        "\n",
        "print(a)"
      ],
      "metadata": {
        "colab": {
          "base_uri": "https://localhost:8080/"
        },
        "id": "QojXnM5Afypr",
        "outputId": "b4f4aa4c-e861-4700-8350-95b70e739a27"
      },
      "execution_count": 80,
      "outputs": [
        {
          "output_type": "stream",
          "name": "stdout",
          "text": [
            "{'banana', 'apple', 'cherry'}\n"
          ]
        }
      ]
    }
  ]
}