{
  "nbformat": 4,
  "nbformat_minor": 0,
  "metadata": {
    "colab": {
      "name": "Assignment 3",
      "provenance": []
    },
    "kernelspec": {
      "name": "python3",
      "display_name": "Python 3"
    },
    "language_info": {
      "name": "python"
    }
  },
  "cells": [
    {
      "cell_type": "markdown",
      "source": [
        "Q33 to Q40\n",
        "Roll no:9147"
      ],
      "metadata": {
        "id": "-MDsUts4e8uK"
      }
    },
    {
      "cell_type": "markdown",
      "source": [
        "Q33) Simple bar diagram"
      ],
      "metadata": {
        "id": "rP_cyAP4i8NK"
      }
    },
    {
      "cell_type": "code",
      "source": [
        "import numpy as np\n",
        "import matplotlib.pyplot  as M\n",
        "\n",
        "Year=[2015,2016,2017,2018,2019]\n",
        "Sales=[12.5,13.4,7.5,20.1,16.5]\n",
        "\n",
        "\n",
        "M.bar(Year,Sales,color='blue',width=0.5)\n",
        "M.ylabel('Annual sales (in lakhs)')\n",
        "M.xlabel('Year')\n",
        "M.title('Simple Bar diagram')\n"
      ],
      "metadata": {
        "colab": {
          "base_uri": "https://localhost:8080/",
          "height": 312
        },
        "id": "yui85dENf_z5",
        "outputId": "26b63bee-f612-4e7b-a722-a5f36d70060f"
      },
      "execution_count": 7,
      "outputs": [
        {
          "output_type": "execute_result",
          "data": {
            "text/plain": [
              "Text(0.5, 1.0, 'Simple Bar diagram')"
            ]
          },
          "metadata": {},
          "execution_count": 7
        },
        {
          "output_type": "display_data",
          "data": {
            "text/plain": [
              "<Figure size 432x288 with 1 Axes>"
            ],
            "image/png": "[encoded data removed]"
          },
          "metadata": {
            "needs_background": "light"
          }
        }
      ]
    },
    {
      "cell_type": "code",
      "source": [
        "Q34) Spike plot"
      ],
      "metadata": {
        "id": "Mq9VtPNLjBmO"
      },
      "execution_count": null,
      "outputs": []
    },
    {
      "cell_type": "code",
      "source": [
        "import numpy as np\n",
        "import matplotlib.pyplot as M \n",
        "\n",
        "X=(1,4,5,7,9)\n",
        "f=(8,12,13,5,8)\n",
        "\n",
        "M.eventplot(f,color='red')\n",
        "M.eventplot(X,color='Blue')\n",
        "\n"
      ],
      "metadata": {
        "colab": {
          "base_uri": "https://localhost:8080/",
          "height": 282
        },
        "id": "5pB0MUTUjF3T",
        "outputId": "4270d80a-aa38-4130-90ea-2762383f8f30"
      },
      "execution_count": 12,
      "outputs": [
        {
          "output_type": "execute_result",
          "data": {
            "text/plain": [
              "[<matplotlib.collections.EventCollection at 0x7f603c2c8550>]"
            ]
          },
          "metadata": {},
          "execution_count": 12
        },
        {
          "output_type": "display_data",
          "data": {
            "text/plain": [
              "<Figure size 432x288 with 1 Axes>"
            ],
            "image/png": "[encoded data removed]"
          },
          "metadata": {
            "needs_background": "light"
          }
        }
      ]
    },
    {
      "cell_type": "markdown",
      "source": [
        "Q35) Generate 100 random numbers from B(20,0.3) and draw boxplot"
      ],
      "metadata": {
        "id": "Gyu8010fnDGD"
      }
    },
    {
      "cell_type": "code",
      "source": [
        "import numpy as np\n",
        "import matplotlib.pyplot  as M\n",
        "\n",
        "s=np.random.binomial(20,0.3,100)\n",
        "print(s)\n",
        "\n",
        "M.boxplot(s)\n",
        "M.title('Boxplot')"
      ],
      "metadata": {
        "colab": {
          "base_uri": "https://localhost:8080/",
          "height": 385
        },
        "id": "hQ59nKlpoHkA",
        "outputId": "43726248-c634-4595-a5da-6f2ef4c2a2c9"
      },
      "execution_count": 15,
      "outputs": [
        {
          "output_type": "stream",
          "name": "stdout",
          "text": [
            "[ 8  2  2  4  7  4  7  8  8  8  6  6  8  8  4  4  4  6  8  4  5  5  5  5\n",
            "  3  6  6  5  7  8  9  3  6  3  6  6  2  8  3  7  5  7  5  7  6  7 10 10\n",
            "  7  6  7 10  8  6  6  6  5  4  6  6 10  3 10  6  5  7  3  3  3  5  5  8\n",
            "  3  6  5  3  4  4  8  8  4  4  7  4  6  8  5  3  7  8  2  6  6  8  7  1\n",
            "  8  9  4  5]\n"
          ]
        },
        {
          "output_type": "execute_result",
          "data": {
            "text/plain": [
              "Text(0.5, 1.0, 'Boxplot')"
            ]
          },
          "metadata": {},
          "execution_count": 15
        },
        {
          "output_type": "display_data",
          "data": {
            "text/plain": [
              "<Figure size 432x288 with 1 Axes>"
            ],
            "image/png": "[encoded data removed]"
          },
          "metadata": {
            "needs_background": "light"
          }
        }
      ]
    },
    {
      "cell_type": "markdown",
      "source": [
        "Q36) Generate 100 random numbers from N(0,1) "
      ],
      "metadata": {
        "id": "h7sPGgCUor67"
      }
    },
    {
      "cell_type": "code",
      "source": [
        "import numpy as np\n",
        "import matplotlib.pyplot  as M\n",
        "\n",
        "s=np.random.normal(0,1,100)\n",
        "print(s)\n",
        "\n"
      ],
      "metadata": {
        "colab": {
          "base_uri": "https://localhost:8080/"
        },
        "id": "YjMeqA9kplCT",
        "outputId": "5a69adaa-486b-4d40-8721-9825301432c3"
      },
      "execution_count": 16,
      "outputs": [
        {
          "output_type": "stream",
          "name": "stdout",
          "text": [
            "[-1.59510711  0.88620672 -0.82610266 -0.27695493 -0.36637852 -0.35638539\n",
            "  1.59870401  0.48616945  1.18561884  2.35240007  0.74859476  0.41686646\n",
            " -1.66284116 -0.16412896 -0.05933076 -0.39506577  0.25456013  0.1856766\n",
            " -0.19493916 -0.75687695 -0.71258199  2.27065766  0.07046986 -0.19855472\n",
            " -0.35463176 -1.73975929 -1.24805788 -0.72839018  0.16627762 -0.37245946\n",
            "  1.26143152 -0.21072028 -0.02523892 -0.60101628 -1.07680152 -0.72399616\n",
            " -0.32973373  0.67331401  1.60811227  0.07968315 -0.24565393  0.83506196\n",
            " -1.29452028  0.36408615 -0.66144341  0.3766685  -0.67794629 -0.26843561\n",
            "  1.02513715 -0.72829326  1.35595691  1.15832669 -1.30451605  0.35065482\n",
            "  0.75477201  0.02783715 -1.00408057  0.11740791  1.47820055 -2.31501185\n",
            " -0.24409609 -0.45039543  0.86260264 -0.89810475  2.57110224 -0.00553288\n",
            "  0.98092665  0.68942605  1.1959033   0.83677991  0.91497963  1.54346115\n",
            "  1.21280875 -1.34472632 -0.29640564  0.04935309  0.34716961  0.28516088\n",
            " -1.26144623  0.18703254 -0.89391277  0.02812906 -0.34889571 -0.43459371\n",
            " -0.07074022  0.8661983  -0.16101874  0.55655211  0.78780157 -0.54985852\n",
            " -1.68970921  0.72420222  0.39187445  1.2392146  -1.24916059 -0.06936314\n",
            "  1.34250399  0.20692686  0.21297268 -0.5045644 ]\n"
          ]
        }
      ]
    },
    {
      "cell_type": "markdown",
      "source": [
        "Q37) "
      ],
      "metadata": {
        "id": "E_0O-LH0qpEU"
      }
    },
    {
      "cell_type": "code",
      "source": [
        "def func(x,n):\n",
        "  sum=0\n",
        "  for i in range(100):\n",
        "    a= x**i\n",
        "    sum=sum+a\n",
        "  return sum\n",
        "\n",
        "print(func(0.2,100))"
      ],
      "metadata": {
        "colab": {
          "base_uri": "https://localhost:8080/"
        },
        "id": "W_3Eg9HLrCew",
        "outputId": "f4aea11d-12de-4e7f-d741-57eaeedd1291"
      },
      "execution_count": 20,
      "outputs": [
        {
          "output_type": "stream",
          "name": "stdout",
          "text": [
            "1.25\n"
          ]
        }
      ]
    },
    {
      "cell_type": "markdown",
      "source": [
        "Q38) "
      ],
      "metadata": {
        "id": "uRN2-ntssF7_"
      }
    },
    {
      "cell_type": "code",
      "source": [
        "def area(a,b,c):\n",
        "  s=(a+b+c)/2\n",
        "  A=(s*(s-a)*(s-b)*(s-c))**0.5\n",
        "  return A\n",
        "\n",
        "print(area(5,7,10))"
      ],
      "metadata": {
        "colab": {
          "base_uri": "https://localhost:8080/"
        },
        "id": "pgUn7k0XsSmf",
        "outputId": "d0d55515-56e4-4cc2-b5c3-8925db1f3bc5"
      },
      "execution_count": 21,
      "outputs": [
        {
          "output_type": "stream",
          "name": "stdout",
          "text": [
            "16.24807680927192\n"
          ]
        }
      ]
    },
    {
      "cell_type": "markdown",
      "source": [
        "Q39)"
      ],
      "metadata": {
        "id": "focCBahEtUiv"
      }
    },
    {
      "cell_type": "code",
      "source": [
        "def power(x,n):\n",
        "  ans=x**n\n",
        "  return ans\n",
        "\n",
        "print(power(2,5))"
      ],
      "metadata": {
        "colab": {
          "base_uri": "https://localhost:8080/"
        },
        "id": "wErfFwuFtYAY",
        "outputId": "fc91e67c-4a01-497f-c816-f9af151c81b3"
      },
      "execution_count": 22,
      "outputs": [
        {
          "output_type": "stream",
          "name": "stdout",
          "text": [
            "32\n"
          ]
        }
      ]
    },
    {
      "cell_type": "markdown",
      "source": [
        "Q40) "
      ],
      "metadata": {
        "id": "jqc1vDy0uHoF"
      }
    },
    {
      "cell_type": "code",
      "source": [
        "def circle(r):\n",
        "  area=3.142*(r**2)\n",
        "  circum=6.284*r\n",
        "  return area , circum\n",
        "  \n",
        "\n",
        "print(circle(0.5)) \n"
      ],
      "metadata": {
        "colab": {
          "base_uri": "https://localhost:8080/"
        },
        "id": "Ft2mce3muXzI",
        "outputId": "6f746d8a-490a-4b58-9245-69016f22f626"
      },
      "execution_count": 25,
      "outputs": [
        {
          "output_type": "stream",
          "name": "stdout",
          "text": [
            "(0.7855, 3.142)\n"
          ]
        }
      ]
    }
  ]
}