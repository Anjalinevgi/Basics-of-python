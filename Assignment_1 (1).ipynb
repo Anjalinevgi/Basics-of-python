{
  "nbformat": 4,
  "nbformat_minor": 0,
  "metadata": {
    "colab": {
      "name": "Assignment 1",
      "provenance": [],
      "collapsed_sections": []
    },
    "kernelspec": {
      "name": "python3",
      "display_name": "Python 3"
    },
    "language_info": {
      "name": "python"
    }
  },
  "cells": [
    {
      "cell_type": "code",
      "execution_count": 1,
      "metadata": {
        "id": "aYM3uYAwmRYh",
        "colab": {
          "base_uri": "https://localhost:8080/"
        },
        "outputId": "9be2c8c2-b956-474a-ee41-6be1403caf35"
      },
      "outputs": [
        {
          "output_type": "stream",
          "name": "stdout",
          "text": [
            "Anjali Nevgi\n",
            "9147\n"
          ]
        }
      ],
      "source": [
        "Name=\"Anjali Nevgi\"\n",
        "Roll_Number=9147\n",
        "print(Name)\n",
        "print(Roll_Number)"
      ]
    },
    {
      "cell_type": "code",
      "source": [
        "A=[\"Anjali nevgi\",\"Age=20\",\"City=Pune\"]\n",
        "B=[\"TY BSc Stat\",\"Sir Parashuram Bhau College\",\"Tilak Road\",\"Pune\"]\n",
        "print(type(A))\n",
        "print(type(B))"
      ],
      "metadata": {
        "colab": {
          "base_uri": "https://localhost:8080/"
        },
        "id": "2hdlXd2KDEBk",
        "outputId": "99522ae7-0825-4276-9f88-3f2fd2e006b7"
      },
      "execution_count": 2,
      "outputs": [
        {
          "output_type": "stream",
          "name": "stdout",
          "text": [
            "<class 'list'>\n",
            "<class 'list'>\n"
          ]
        }
      ]
    },
    {
      "cell_type": "code",
      "source": [
        "print(A[2])"
      ],
      "metadata": {
        "colab": {
          "base_uri": "https://localhost:8080/"
        },
        "id": "v0oXlrs3FWaF",
        "outputId": "ca86eff0-bfd2-42be-cd49-76c6ecdcf4fd"
      },
      "execution_count": 3,
      "outputs": [
        {
          "output_type": "stream",
          "name": "stdout",
          "text": [
            "City=Pune\n"
          ]
        }
      ]
    },
    {
      "cell_type": "code",
      "source": [
        "print(A[:3] )\n",
        "print(A[2:])\n",
        "print(A[0:2])\n",
        "print(A[:-1] )"
      ],
      "metadata": {
        "colab": {
          "base_uri": "https://localhost:8080/"
        },
        "id": "AaoKrv-Sjvz5",
        "outputId": "760bcc20-d3f1-407a-b975-06f8d979d0f5"
      },
      "execution_count": 4,
      "outputs": [
        {
          "output_type": "stream",
          "name": "stdout",
          "text": [
            "['Anjali nevgi', 'Age=20', 'City=Pune']\n",
            "['City=Pune']\n",
            "['Anjali nevgi', 'Age=20']\n",
            "['Anjali nevgi', 'Age=20']\n"
          ]
        }
      ]
    },
    {
      "cell_type": "code",
      "source": [
        "A[1]=\"Age=20 yrs\"\n",
        "print(A)"
      ],
      "metadata": {
        "colab": {
          "base_uri": "https://localhost:8080/"
        },
        "id": "HVhVOvgjkbdW",
        "outputId": "8f99f070-ec26-4402-8b1a-47953d1a770d"
      },
      "execution_count": 5,
      "outputs": [
        {
          "output_type": "stream",
          "name": "stdout",
          "text": [
            "['Anjali nevgi', 'Age=20 yrs', 'City=Pune']\n"
          ]
        }
      ]
    },
    {
      "cell_type": "code",
      "source": [
        "A.append(\"MH 12\")\n",
        "print(A)"
      ],
      "metadata": {
        "colab": {
          "base_uri": "https://localhost:8080/"
        },
        "id": "aEiFW2KPFjAN",
        "outputId": "df41b834-817b-4738-ea1e-7d921b516e57"
      },
      "execution_count": 7,
      "outputs": [
        {
          "output_type": "stream",
          "name": "stdout",
          "text": [
            "['Anjali nevgi', 'Age=20 yrs', 'City=Pune', 'MH 11', 'MH 12']\n"
          ]
        }
      ]
    },
    {
      "cell_type": "code",
      "source": [
        "A.extend(\"Student\")\n",
        "print(A)"
      ],
      "metadata": {
        "id": "lOagV-YhHDJP",
        "colab": {
          "base_uri": "https://localhost:8080/"
        },
        "outputId": "d22b3f17-63d7-478a-bd9c-be4dc8edddc5"
      },
      "execution_count": 8,
      "outputs": [
        {
          "output_type": "stream",
          "name": "stdout",
          "text": [
            "['Anjali nevgi', 'Age=20 yrs', 'City=Pune', 'MH 11', 'MH 12', 'S', 't', 'u', 'd', 'e', 'n', 't']\n"
          ]
        }
      ]
    },
    {
      "cell_type": "code",
      "source": [
        "x=A.count(\"Anjali nevgi\")\n",
        "print(x)"
      ],
      "metadata": {
        "colab": {
          "base_uri": "https://localhost:8080/"
        },
        "id": "-_sCt96yl3Xt",
        "outputId": "c1f66c0c-e122-4d68-e4a5-2ad103a9bc39"
      },
      "execution_count": 9,
      "outputs": [
        {
          "output_type": "stream",
          "name": "stdout",
          "text": [
            "1\n"
          ]
        }
      ]
    },
    {
      "cell_type": "code",
      "source": [
        "y=A.index(\"Anjali nevgi\")\n",
        "print(y)"
      ],
      "metadata": {
        "colab": {
          "base_uri": "https://localhost:8080/"
        },
        "id": "q-P_1JiEnJfj",
        "outputId": "c2bac12e-9288-4df4-f99c-01ac71e54fd6"
      },
      "execution_count": 10,
      "outputs": [
        {
          "output_type": "stream",
          "name": "stdout",
          "text": [
            "0\n"
          ]
        }
      ]
    },
    {
      "cell_type": "code",
      "source": [
        "print(len(A))"
      ],
      "metadata": {
        "colab": {
          "base_uri": "https://localhost:8080/"
        },
        "id": "pb-MkSOCn64-",
        "outputId": "63250297-8443-4662-d0aa-925d49322879"
      },
      "execution_count": null,
      "outputs": [
        {
          "output_type": "stream",
          "name": "stdout",
          "text": [
            "3\n"
          ]
        }
      ]
    },
    {
      "cell_type": "code",
      "source": [
        "A.sort()\n",
        "print(A)"
      ],
      "metadata": {
        "colab": {
          "base_uri": "https://localhost:8080/"
        },
        "id": "PFSTrPstpu6I",
        "outputId": "b11f7a3e-227c-4eb5-a1ba-29c9d28e695a"
      },
      "execution_count": 11,
      "outputs": [
        {
          "output_type": "stream",
          "name": "stdout",
          "text": [
            "['Age=20 yrs', 'Anjali nevgi', 'City=Pune', 'MH 11', 'MH 12', 'S', 'd', 'e', 'n', 't', 't', 'u']\n"
          ]
        }
      ]
    },
    {
      "cell_type": "code",
      "source": [
        "A1=A.copy()\n",
        "print(A1)"
      ],
      "metadata": {
        "id": "_b7A3tGE_R1e",
        "colab": {
          "base_uri": "https://localhost:8080/"
        },
        "outputId": "c604058f-909c-4b6d-9612-cc19c4277389"
      },
      "execution_count": 12,
      "outputs": [
        {
          "output_type": "stream",
          "name": "stdout",
          "text": [
            "['Age=20 yrs', 'Anjali nevgi', 'City=Pune', 'MH 11', 'MH 12', 'S', 'd', 'e', 'n', 't', 't', 'u']\n"
          ]
        }
      ]
    },
    {
      "cell_type": "code",
      "source": [
        "A1.clear()\n",
        "print(A1)"
      ],
      "metadata": {
        "colab": {
          "base_uri": "https://localhost:8080/"
        },
        "id": "OM48uCTTAd2P",
        "outputId": "ccbe338f-dff4-4248-d359-5f90e42aec3d"
      },
      "execution_count": 13,
      "outputs": [
        {
          "output_type": "stream",
          "name": "stdout",
          "text": [
            "[]\n"
          ]
        }
      ]
    },
    {
      "cell_type": "code",
      "source": [
        "A2=(\"Anjali nevgi\",\"Age=20\",\"City=Pune\")\n",
        "B2=(\"TY BSc Stat\",\"Sir Parashuram Bhau College\",\"Tilak Road\",\"Pune\")\n",
        "print(type(A2))\n",
        "print(type(B2))"
      ],
      "metadata": {
        "id": "nf4V73jRAmaR",
        "colab": {
          "base_uri": "https://localhost:8080/"
        },
        "outputId": "be4deebe-200f-4bbb-bb9d-eaf858354aa0"
      },
      "execution_count": 14,
      "outputs": [
        {
          "output_type": "stream",
          "name": "stdout",
          "text": [
            "<class 'tuple'>\n",
            "<class 'tuple'>\n"
          ]
        }
      ]
    },
    {
      "cell_type": "code",
      "source": [
        "print(A2[2])"
      ],
      "metadata": {
        "colab": {
          "base_uri": "https://localhost:8080/"
        },
        "id": "JU8mqZZrh4uv",
        "outputId": "5b4e05f6-fd4b-4263-d3b3-897928da07fb"
      },
      "execution_count": 15,
      "outputs": [
        {
          "output_type": "stream",
          "name": "stdout",
          "text": [
            "City=Pune\n"
          ]
        }
      ]
    },
    {
      "cell_type": "code",
      "source": [
        "print(A2[0])\n",
        "print(A2[2:])\n",
        "print(A2[:3])\n",
        "print(B2[-1])\n",
        "print(B2[-4:])\n",
        "print(B2[:-3])"
      ],
      "metadata": {
        "colab": {
          "base_uri": "https://localhost:8080/"
        },
        "id": "frAVQt90qWrj",
        "outputId": "52fd5ebe-3d03-45f1-933e-a1d798e07374"
      },
      "execution_count": 16,
      "outputs": [
        {
          "output_type": "stream",
          "name": "stdout",
          "text": [
            "Anjali nevgi\n",
            "('City=Pune',)\n",
            "('Anjali nevgi', 'Age=20', 'City=Pune')\n",
            "Pune\n",
            "('TY BSc Stat', 'Sir Parashuram Bhau College', 'Tilak Road', 'Pune')\n",
            "('TY BSc Stat',)\n"
          ]
        }
      ]
    },
    {
      "cell_type": "code",
      "source": [
        "if \"Anjali nevgi\" in A2:\n",
        "    print(\"Anjali nevgi is listed in A2\")\n",
        "print('Anjali nevgi' in A2)"
      ],
      "metadata": {
        "colab": {
          "base_uri": "https://localhost:8080/"
        },
        "id": "-VbDtKK3rQ_L",
        "outputId": "e4d0bfab-2c01-44ae-812a-ce513b0bfcac"
      },
      "execution_count": 17,
      "outputs": [
        {
          "output_type": "stream",
          "name": "stdout",
          "text": [
            "Anjali nevgi is listed in A2\n",
            "True\n"
          ]
        }
      ]
    },
    {
      "cell_type": "code",
      "source": [
        "x=A2.count(\"Anjali nevgi\")\n",
        "print(x)"
      ],
      "metadata": {
        "colab": {
          "base_uri": "https://localhost:8080/"
        },
        "id": "NYIo9rKDr9b5",
        "outputId": "c53c9419-740b-457b-9e85-4e57310776e8"
      },
      "execution_count": 18,
      "outputs": [
        {
          "output_type": "stream",
          "name": "stdout",
          "text": [
            "1\n"
          ]
        }
      ]
    },
    {
      "cell_type": "code",
      "source": [
        "y=A2.index(\"Anjali nevgi\")\n",
        "print(y)"
      ],
      "metadata": {
        "colab": {
          "base_uri": "https://localhost:8080/"
        },
        "id": "4fmQ6zt6sPOf",
        "outputId": "6cf1be43-6da7-4f40-cca8-2df2a0a8cb94"
      },
      "execution_count": 19,
      "outputs": [
        {
          "output_type": "stream",
          "name": "stdout",
          "text": [
            "0\n"
          ]
        }
      ]
    }
  ]
}