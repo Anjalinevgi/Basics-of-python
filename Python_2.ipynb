{
  "nbformat": 4,
  "nbformat_minor": 0,
  "metadata": {
    "colab": {
      "name": "Python 2",
      "provenance": []
    },
    "kernelspec": {
      "name": "python3",
      "display_name": "Python 3"
    },
    "language_info": {
      "name": "python"
    }
  },
  "cells": [
    {
      "cell_type": "code",
      "execution_count": null,
      "metadata": {
        "colab": {
          "base_uri": "https://localhost:8080/"
        },
        "id": "br77VKLfigQk",
        "outputId": "6a429855-e35c-4e18-9629-d9e1efc6f134"
      },
      "outputs": [
        {
          "output_type": "stream",
          "name": "stdout",
          "text": [
            "5\n",
            "<class 'int'>\n",
            "Good Day!\n",
            "<class 'str'>\n",
            "global\n",
            "<class 'str'>\n"
          ]
        }
      ],
      "source": [
        "#Data types in python\n",
        "x, y, z = 5, \"Good Day!\", \"global\"\n",
        "print(x)\n",
        "print(type(x))\n",
        "print(y)\n",
        "print(type(y))\n",
        "print(z)\n",
        "print(type(z)) "
      ]
    },
    {
      "cell_type": "code",
      "source": [
        "#There are three numeric types in Python:\n",
        "#1.int 2.float 3.complex\n",
        "x = 1    # int \n",
        "y = 2.8 # float 1.3, 4.4,-3.3 \n",
        "z = 1j   # complex\n",
        "# check type\n",
        "\n",
        "print(type(x))\n",
        "print(type(y))\n",
        "print(type(z))"
      ],
      "metadata": {
        "colab": {
          "base_uri": "https://localhost:8080/"
        },
        "id": "88dAhPhoi38J",
        "outputId": "f07b7448-e953-4094-9c29-09eb877dd463"
      },
      "execution_count": null,
      "outputs": [
        {
          "output_type": "stream",
          "name": "stdout",
          "text": [
            "<class 'int'>\n",
            "<class 'float'>\n",
            "<class 'complex'>\n"
          ]
        }
      ]
    },
    {
      "cell_type": "code",
      "source": [
        "x = 1 # int\n",
        "y = 2.8 # float\n",
        "z = 1j # complex\n",
        "\n",
        "#convert from int to float:\n",
        "a = float(x)\n",
        "#convert from float to int:\n",
        "b = int(y)\n",
        "#convert from int to complex:\n",
        "c = complex(x)\n",
        "\n",
        "print(a)\n",
        "print(b)\n",
        "print(c)\n",
        "\n",
        "print(type(a))\n",
        "print(type(b))\n",
        "print(type(c))"
      ],
      "metadata": {
        "colab": {
          "base_uri": "https://localhost:8080/"
        },
        "id": "bFa1mnqsjTde",
        "outputId": "64cf8be3-38a5-4701-9dd6-61b7281125c1"
      },
      "execution_count": null,
      "outputs": [
        {
          "output_type": "stream",
          "name": "stdout",
          "text": [
            "1.0\n",
            "2\n",
            "(1+0j)\n",
            "<class 'float'>\n",
            "<class 'int'>\n",
            "<class 'complex'>\n"
          ]
        }
      ]
    },
    {
      "cell_type": "code",
      "source": [
        "#string can be written in single or double quotes\n",
        "b = \"Future is AI\"\n",
        "print(b )\n",
        "# three single quotes\n",
        "c = 'I love programming'\n",
        "print(c)"
      ],
      "metadata": {
        "colab": {
          "base_uri": "https://localhost:8080/"
        },
        "id": "gVYotvYjjnDW",
        "outputId": "ff5dd4c6-ac0b-4166-93ce-adb6658dd77e"
      },
      "execution_count": null,
      "outputs": [
        {
          "output_type": "stream",
          "name": "stdout",
          "text": [
            "Future is AI\n",
            "I love programming\n"
          ]
        }
      ]
    },
    {
      "cell_type": "code",
      "source": [
        "#Methods\n",
        "#strip() method removes any whitespace from the beginning or the end.\n",
        "#lower() method returns the string in lower case.\n",
        "#upper() method returns the string in upper case.\n",
        "#replace() method replaces a string with another string.\n",
        "#split() method splits the string into substrings if it finds instances of the separator.\n",
        "\n",
        "x=\"  Hi how are you?    from where their. \"\n",
        "\n",
        "print(x.lower())\n",
        "print(x.upper())\n",
        "print(x.replace(\"o\", \"J\"))\n",
        "print(x.split(\"o\"))"
      ],
      "metadata": {
        "colab": {
          "base_uri": "https://localhost:8080/"
        },
        "id": "q2XfMee1lhXW",
        "outputId": "6fbf9a6a-3991-4a88-bd5d-504fdba9b167"
      },
      "execution_count": 1,
      "outputs": [
        {
          "output_type": "stream",
          "name": "stdout",
          "text": [
            "  hi how are you?    from where their. \n",
            "  HI HOW ARE YOU?    FROM WHERE THEIR. \n",
            "  Hi hJw are yJu?    frJm where their. \n",
            "['  Hi h', 'w are y', 'u?    fr', 'm where their. ']\n"
          ]
        }
      ]
    }
  ]
}