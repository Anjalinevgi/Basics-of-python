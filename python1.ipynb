{
  "nbformat": 4,
  "nbformat_minor": 0,
  "metadata": {
    "colab": {
      "name": "python1 ",
      "provenance": []
    },
    "kernelspec": {
      "name": "python3",
      "display_name": "Python 3"
    },
    "language_info": {
      "name": "python"
    }
  },
  "cells": [
    {
      "cell_type": "code",
      "execution_count": 16,
      "metadata": {
        "colab": {
          "base_uri": "https://localhost:8080/"
        },
        "id": "JXXpFsSc-GaR",
        "outputId": "d276e904-f37f-4699-fd43-663a9e42afb5"
      },
      "outputs": [
        {
          "output_type": "stream",
          "name": "stdout",
          "text": [
            "3\n",
            "4\n",
            "Anjali Pune\n"
          ]
        }
      ],
      "source": [
        "Name,City,a,b='Anjali','Pune',3,4\n",
        "print(a)\n",
        "print(b)\n",
        "print(Name,City)"
      ]
    },
    {
      "cell_type": "code",
      "source": [
        "'''nddhjsjdb'''\n",
        "#To comment add '',\"\" or ''' '''"
      ],
      "metadata": {
        "colab": {
          "base_uri": "https://localhost:8080/",
          "height": 35
        },
        "id": "qAij2mrFAk_d",
        "outputId": "e171f205-fa73-4ae3-c221-2a7b6abf8823"
      },
      "execution_count": 5,
      "outputs": [
        {
          "output_type": "execute_result",
          "data": {
            "text/plain": [
              "'nddhjsjdb'"
            ],
            "application/vnd.google.colaboratory.intrinsic+json": {
              "type": "string"
            }
          },
          "metadata": {},
          "execution_count": 5
        }
      ]
    },
    {
      "cell_type": "code",
      "source": [
        "#Mathematical operations\n",
        "a,b=3.1432,7.98214\n",
        "print('Addition=',a+b)\n",
        "print('Subtraction=',a-b)\n",
        "print('Multipliction=',a*b)\n",
        "print('Division=',a/b)\n",
        "print('Power=',a**b)\n",
        "print('Modulus=',a%b) #gives remainder\n",
        "print('Floor division=',a//b) #gives quotient\n",
        "print('Square root=',a**0.5)"
      ],
      "metadata": {
        "colab": {
          "base_uri": "https://localhost:8080/"
        },
        "id": "wKMnygG9AygE",
        "outputId": "cbbf96b2-ffbe-421c-e1aa-fbb5ca934770"
      },
      "execution_count": 20,
      "outputs": [
        {
          "output_type": "stream",
          "name": "stdout",
          "text": [
            "Addition= 11.125340000000001\n",
            "Subtraction= -4.83894\n",
            "Multipliction= 25.089462448000003\n",
            "Division= 0.3937791118672436\n",
            "Power= 9334.543034079248\n",
            "Modulus= 3.1432\n",
            "Floor division= 0.0\n",
            "Square root= 1.7729072169744249\n"
          ]
        }
      ]
    },
    {
      "cell_type": "code",
      "source": [
        ""
      ],
      "metadata": {
        "id": "TF1e7jbPD1nw"
      },
      "execution_count": null,
      "outputs": []
    }
  ]
}