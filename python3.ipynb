{
  "nbformat": 4,
  "nbformat_minor": 0,
  "metadata": {
    "colab": {
      "name": "python3.ipynb",
      "provenance": []
    },
    "kernelspec": {
      "name": "python3",
      "display_name": "Python 3"
    },
    "language_info": {
      "name": "python"
    }
  },
  "cells": [
    {
      "cell_type": "markdown",
      "source": [
        "Booleans represent one of two values: True or False\n"
      ],
      "metadata": {
        "id": "MABKu3WfAx7e"
      }
    },
    {
      "cell_type": "code",
      "source": [
        "print(\"Demo for learning git\")\n",
        "print(10 > 9)\n",
        "print(10 == 9)\n",
        "print(10 < 9)"
      ],
      "metadata": {
        "colab": {
          "base_uri": "https://localhost:8080/"
        },
        "id": "-J4HUcT5A0Y6",
        "outputId": "bc0e453f-ce2a-43b3-93a5-3fbef0f30b05"
      },
      "execution_count": 1,
      "outputs": [
        {
          "output_type": "stream",
          "name": "stdout",
          "text": [
            "Demo for learning git\n",
            "True\n",
            "False\n",
            "False\n"
          ]
        }
      ]
    },
    {
      "cell_type": "code",
      "source": [
        "# The bool() function allows you to evaluate any value, \n",
        "# and give you True or False in return\n",
        "print(bool(\"Hello\"))\n",
        "print(bool())"
      ],
      "metadata": {
        "colab": {
          "base_uri": "https://localhost:8080/"
        },
        "id": "HqZLt9pKB6L8",
        "outputId": "b8b9deb1-04da-401a-cfaa-132d72c4712c"
      },
      "execution_count": 2,
      "outputs": [
        {
          "output_type": "stream",
          "name": "stdout",
          "text": [
            "True\n",
            "False\n"
          ]
        }
      ]
    },
    {
      "cell_type": "code",
      "source": [
        "x = \"Hello\"\n",
        "y = 15\n",
        "\n",
        "print(bool(x))\n",
        "print(bool(y))"
      ],
      "metadata": {
        "colab": {
          "base_uri": "https://localhost:8080/"
        },
        "id": "tGFhrDeXCRH8",
        "outputId": "2f8ee007-16fd-4371-a4ee-adfdff14a821"
      },
      "execution_count": 3,
      "outputs": [
        {
          "output_type": "stream",
          "name": "stdout",
          "text": [
            "True\n",
            "True\n"
          ]
        }
      ]
    },
    {
      "cell_type": "code",
      "source": [
        "#Some Values are False\n",
        "print(bool(False))\n",
        "print(bool(None))\n",
        "print(bool(0))\n",
        "print(bool(\"\"))\n",
        "print(bool(()))\n",
        "print(bool([]))\n",
        "print(bool({}))"
      ],
      "metadata": {
        "colab": {
          "base_uri": "https://localhost:8080/"
        },
        "id": "pUcbpxpUCT9D",
        "outputId": "1a951b86-b8e1-4481-a435-1f6c026940d5"
      },
      "execution_count": 5,
      "outputs": [
        {
          "output_type": "stream",
          "name": "stdout",
          "text": [
            "False\n",
            "False\n",
            "False\n",
            "False\n",
            "False\n",
            "False\n",
            "False\n"
          ]
        }
      ]
    },
    {
      "cell_type": "markdown",
      "source": [
        "Comparison Operators Equal == Not equal != Greater > Less < Greater than equal to >= Less than equal to <="
      ],
      "metadata": {
        "id": "op33ruZ0CdtE"
      }
    },
    {
      "cell_type": "code",
      "source": [
        "x,y = 15, 9\n",
        "print(x==y)\n",
        "print(x!=y)\n",
        "print(x>y)\n",
        "print(x<y)\n",
        "print(x>=y)\n",
        "print(x<=y)"
      ],
      "metadata": {
        "colab": {
          "base_uri": "https://localhost:8080/"
        },
        "id": "XB_PJwslCeph",
        "outputId": "ccd4a3a6-23d6-4109-963e-1ff4f7b346fc"
      },
      "execution_count": 6,
      "outputs": [
        {
          "output_type": "stream",
          "name": "stdout",
          "text": [
            "False\n",
            "True\n",
            "True\n",
            "False\n",
            "True\n",
            "False\n"
          ]
        }
      ]
    },
    {
      "cell_type": "code",
      "source": [
        "x=8\n",
        "print(x < 5 and  x < 10)\n",
        "print(x < 5 or  x < 10)\n",
        "print(not(x>10))\n",
        "print(not(x < 5 and x < 10))"
      ],
      "metadata": {
        "colab": {
          "base_uri": "https://localhost:8080/"
        },
        "id": "DH-lK8-FC1QC",
        "outputId": "3db22cd0-6961-4ed6-ba3a-aee095ab15d5"
      },
      "execution_count": 7,
      "outputs": [
        {
          "output_type": "stream",
          "name": "stdout",
          "text": [
            "False\n",
            "True\n",
            "True\n",
            "True\n"
          ]
        }
      ]
    },
    {
      "cell_type": "code",
      "source": [
        "x, y = 2,10\n",
        "print(x is y)\n",
        "print(x is not y)"
      ],
      "metadata": {
        "colab": {
          "base_uri": "https://localhost:8080/"
        },
        "id": "QQxeyCSTC6L5",
        "outputId": "0012df99-9881-4608-fab8-40a7181f6b0d"
      },
      "execution_count": 8,
      "outputs": [
        {
          "output_type": "stream",
          "name": "stdout",
          "text": [
            "False\n",
            "True\n"
          ]
        }
      ]
    },
    {
      "cell_type": "code",
      "source": [
        "x, y = 'Hi', \"Hi\"\n",
        "print(x is y)\n",
        "print(x is not y)"
      ],
      "metadata": {
        "colab": {
          "base_uri": "https://localhost:8080/"
        },
        "id": "P1xxfjQ8C-4P",
        "outputId": "8d4207cc-3034-4f3d-dfab-1df3364020eb"
      },
      "execution_count": 9,
      "outputs": [
        {
          "output_type": "stream",
          "name": "stdout",
          "text": [
            "True\n",
            "False\n"
          ]
        }
      ]
    },
    {
      "cell_type": "markdown",
      "source": [
        "Membership Operators\n",
        "\n",
        "*in\n",
        "\n",
        "*not in"
      ],
      "metadata": {
        "id": "3XOk5UXRGAQ-"
      }
    },
    {
      "cell_type": "code",
      "source": [
        "x=\"Have a Hgood day!\" #He\n",
        "print(\"Have\" in x)\n",
        "#print(\"H\" in x)\n",
        "#print(\"av a\" in x)\n",
        "#print('good day' in x)"
      ],
      "metadata": {
        "colab": {
          "base_uri": "https://localhost:8080/"
        },
        "id": "9pRsgUFkGBby",
        "outputId": "6bf54977-2dd1-43da-fd7a-b85ef5dca470"
      },
      "execution_count": 10,
      "outputs": [
        {
          "output_type": "stream",
          "name": "stdout",
          "text": [
            "True\n"
          ]
        }
      ]
    },
    {
      "cell_type": "code",
      "source": [
        "a = \"is not in Pune\"\n",
        "print('Pune' in a)"
      ],
      "metadata": {
        "colab": {
          "base_uri": "https://localhost:8080/"
        },
        "id": "NbKqVJ4FGpWS",
        "outputId": "ee2573ef-d3ad-4892-f4ac-12876dbca03c"
      },
      "execution_count": 11,
      "outputs": [
        {
          "output_type": "stream",
          "name": "stdout",
          "text": [
            "True\n"
          ]
        }
      ]
    },
    {
      "cell_type": "markdown",
      "source": [
        "Indexing\n",
        "\n",
        "Positive Indexing Starts From 0.\n",
        "\n",
        "Goes from left to right\n",
        "\n",
        "Negative Indexing Starts From -1.\n",
        "\n",
        "Goes from right to left"
      ],
      "metadata": {
        "id": "CMs_43chGtCV"
      }
    },
    {
      "cell_type": "code",
      "source": [
        "a=\"I Like Python\"\n",
        "print(a[-11:-7])\n",
        "print(a[2:6])"
      ],
      "metadata": {
        "colab": {
          "base_uri": "https://localhost:8080/"
        },
        "id": "n3p7jXMOGwSC",
        "outputId": "81ae9de3-0cd9-4747-83ec-d153ce8d6b42"
      },
      "execution_count": 12,
      "outputs": [
        {
          "output_type": "stream",
          "name": "stdout",
          "text": [
            "Like\n",
            "Like\n"
          ]
        }
      ]
    }
  ]
}