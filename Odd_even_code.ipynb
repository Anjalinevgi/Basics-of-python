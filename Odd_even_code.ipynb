{
  "nbformat": 4,
  "nbformat_minor": 0,
  "metadata": {
    "colab": {
      "name": "Odd even code.ipynb",
      "provenance": []
    },
    "kernelspec": {
      "name": "python3",
      "display_name": "Python 3"
    },
    "language_info": {
      "name": "python"
    }
  },
  "cells": [
    {
      "cell_type": "code",
      "execution_count": 5,
      "metadata": {
        "colab": {
          "base_uri": "https://localhost:8080/"
        },
        "id": "_Bqach4DgUCY",
        "outputId": "65e54a1e-b09d-4078-b4ce-28e1e49bd00c"
      },
      "outputs": [
        {
          "output_type": "stream",
          "name": "stdout",
          "text": [
            "2\n",
            "even\n"
          ]
        }
      ],
      "source": [
        "a = int(input())\n",
        "b = a%2 # % is Modulus\n",
        "if b==1:\n",
        "    if a>10:\n",
        "        print(\"a is 2 digit odd number\")\n",
        "    else:\n",
        "        print(\"a is single digit odd number\")\n",
        "else:\n",
        "    print(\"even\")"
      ]
    }
  ]
}